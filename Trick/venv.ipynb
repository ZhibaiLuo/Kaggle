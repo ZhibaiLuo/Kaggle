{
 "cells": [
  {
   "cell_type": "code",
   "execution_count": 1,
   "metadata": {},
   "outputs": [
    {
     "name": "stdout",
     "output_type": "stream",
     "text": [
      "/Users/lzb/Downloads/Github/Trick\r\n"
     ]
    }
   ],
   "source": [
    "!pwd"
   ]
  },
  {
   "cell_type": "code",
   "execution_count": 5,
   "metadata": {},
   "outputs": [
    {
     "name": "stdout",
     "output_type": "stream",
     "text": [
      "Collecting package metadata (current_repodata.json): done\n",
      "Solving environment: done\n",
      "\n",
      "## Package Plan ##\n",
      "\n",
      "  environment location: /Applications/anaconda3/envs/env_name\n",
      "\n",
      "  added / updated specs:\n",
      "    - python=3.7\n",
      "\n",
      "\n",
      "The following packages will be downloaded:\n",
      "\n",
      "    package                    |            build\n",
      "    ---------------------------|-----------------\n",
      "    ca-certificates-2020.7.22  |                0         124 KB\n",
      "    certifi-2020.6.20          |           py37_0         156 KB\n",
      "    libcxx-10.0.0              |                1         760 KB\n",
      "    libedit-3.1.20191231       |       h1de35cc_1          96 KB\n",
      "    libffi-3.3                 |       hb1e8313_2          44 KB\n",
      "    ncurses-6.2                |       h0a44026_1         749 KB\n",
      "    openssl-1.1.1h             |       haf1e3a3_0         2.2 MB\n",
      "    pip-20.2.2                 |           py37_0         1.7 MB\n",
      "    python-3.7.9               |       h26836e1_0        19.7 MB\n",
      "    setuptools-49.6.0          |           py37_0         744 KB\n",
      "    sqlite-3.33.0              |       hffcf06c_0         1.3 MB\n",
      "    tk-8.6.10                  |       hb0a8c7a_0         3.0 MB\n",
      "    wheel-0.35.1               |             py_0          37 KB\n",
      "    xz-5.2.5                   |       h1de35cc_0         240 KB\n",
      "    ------------------------------------------------------------\n",
      "                                           Total:        30.8 MB\n",
      "\n",
      "The following NEW packages will be INSTALLED:\n",
      "\n",
      "  ca-certificates    pkgs/main/osx-64::ca-certificates-2020.7.22-0\n",
      "  certifi            pkgs/main/osx-64::certifi-2020.6.20-py37_0\n",
      "  libcxx             pkgs/main/osx-64::libcxx-10.0.0-1\n",
      "  libedit            pkgs/main/osx-64::libedit-3.1.20191231-h1de35cc_1\n",
      "  libffi             pkgs/main/osx-64::libffi-3.3-hb1e8313_2\n",
      "  ncurses            pkgs/main/osx-64::ncurses-6.2-h0a44026_1\n",
      "  openssl            pkgs/main/osx-64::openssl-1.1.1h-haf1e3a3_0\n",
      "  pip                pkgs/main/osx-64::pip-20.2.2-py37_0\n",
      "  python             pkgs/main/osx-64::python-3.7.9-h26836e1_0\n",
      "  readline           pkgs/main/osx-64::readline-8.0-h1de35cc_0\n",
      "  setuptools         pkgs/main/osx-64::setuptools-49.6.0-py37_0\n",
      "  sqlite             pkgs/main/osx-64::sqlite-3.33.0-hffcf06c_0\n",
      "  tk                 pkgs/main/osx-64::tk-8.6.10-hb0a8c7a_0\n",
      "  wheel              pkgs/main/noarch::wheel-0.35.1-py_0\n",
      "  xz                 pkgs/main/osx-64::xz-5.2.5-h1de35cc_0\n",
      "  zlib               pkgs/main/osx-64::zlib-1.2.11-h1de35cc_3\n",
      "\n",
      "\n",
      "Proceed ([y]/n)? ^C\n",
      "\n",
      "CondaSystemExit: \n",
      "Operation aborted.  Exiting.\n",
      "\n",
      "\n",
      "Note: you may need to restart the kernel to use updated packages.\n"
     ]
    }
   ],
   "source": [
    "conda create -n env_name python=3.7"
   ]
  },
  {
   "cell_type": "code",
   "execution_count": 6,
   "metadata": {},
   "outputs": [
    {
     "name": "stdout",
     "output_type": "stream",
     "text": [
      "/bin/sh: y: command not found\r\n"
     ]
    }
   ],
   "source": [
    "!y"
   ]
  },
  {
   "cell_type": "code",
   "execution_count": 9,
   "metadata": {},
   "outputs": [
    {
     "name": "stdout",
     "output_type": "stream",
     "text": [
      "/bin/sh: activate: No such file or directory\r\n"
     ]
    }
   ],
   "source": [
    "source activate env_name\n",
    "source deactivate\n",
    "conda activate env_name\n",
    "conda deactivate"
   ]
  },
  {
   "cell_type": "markdown",
   "metadata": {},
   "source": [
    "check all packages, and install packages"
   ]
  },
  {
   "cell_type": "code",
   "execution_count": 10,
   "metadata": {
    "collapsed": true
   },
   "outputs": [
    {
     "name": "stdout",
     "output_type": "stream",
     "text": [
      "# packages in environment at /Applications/anaconda3:\r\n",
      "#\r\n",
      "# Name                    Version                   Build  Channel\r\n",
      "_ipyw_jlab_nb_ext_conf    0.1.0                    py37_0  \r\n",
      "absl-py                   0.9.0            py37hc8dfbb8_1    conda-forge\r\n",
      "alabaster                 0.7.12                   py37_0  \r\n",
      "anaconda                  2019.10                  py37_0  \r\n",
      "anaconda-client           1.7.2                    py37_0  \r\n",
      "anaconda-navigator        1.9.7                    py37_0  \r\n",
      "anaconda-project          0.8.3                      py_0  \r\n",
      "appnope                   0.1.0                    py37_0  \r\n",
      "appscript                 1.1.0            py37h1de35cc_0  \r\n",
      "asn1crypto                1.0.1                    py37_0  \r\n",
      "astor                     0.7.1                      py_0    conda-forge\r\n",
      "astroid                   2.3.1                    py37_0  \r\n",
      "astropy                   3.2.2            py37h1de35cc_0  \r\n",
      "atomicwrites              1.3.0                    py37_1  \r\n",
      "attrs                     19.2.0                     py_0  \r\n",
      "babel                     2.7.0                      py_0  \r\n",
      "backcall                  0.1.0                    py37_0  \r\n",
      "backports                 1.0                        py_2  \r\n",
      "backports.functools_lru_cache 1.5                        py_2  \r\n",
      "backports.os              0.1.1                    py37_0  \r\n",
      "backports.shutil_get_terminal_size 1.0.0                    py37_2  \r\n",
      "backports.tempfile        1.0                        py_1  \r\n",
      "backports.weakref         1.0.post1                  py_1  \r\n",
      "beautifulsoup4            4.8.0                    py37_0  \r\n",
      "bitarray                  1.0.1            py37h1de35cc_0  \r\n",
      "bkcharts                  0.2                      py37_0  \r\n",
      "blas                      1.0                         mkl  \r\n",
      "bleach                    3.1.0                    py37_0  \r\n",
      "blosc                     1.16.3               hd9629dc_0  \r\n",
      "bokeh                     1.3.4                    py37_0  \r\n",
      "boto                      2.49.0                   py37_0  \r\n",
      "bottleneck                1.2.1            py37h1d22016_1  \r\n",
      "bzip2                     1.0.8                h1de35cc_0  \r\n",
      "c-ares                    1.15.0            h01d97ff_1001    conda-forge\r\n",
      "ca-certificates           2019.8.28                     0  \r\n",
      "certifi                   2019.9.11                py37_0    conda-forge\r\n",
      "cffi                      1.12.3           py37hb5b8e2f_0  \r\n",
      "chardet                   3.0.4                 py37_1003  \r\n",
      "click                     7.0                      py37_0  \r\n",
      "cloudpickle               1.2.2                      py_0  \r\n",
      "clyent                    1.2.2                    py37_1  \r\n",
      "colorama                  0.4.1                    py37_0  \r\n",
      "colorlover                0.3.0                    pypi_0    pypi\r\n",
      "conda                     4.8.3            py37hc8dfbb8_1    conda-forge\r\n",
      "conda-build               3.18.9                   py37_3  \r\n",
      "conda-env                 2.6.0                         1  \r\n",
      "conda-package-handling    1.6.0            py37h1de35cc_0  \r\n",
      "conda-verify              3.4.2                      py_1  \r\n",
      "contextlib2               0.6.0                      py_0  \r\n",
      "cryptography              2.7              py37ha12b0ac_0  \r\n",
      "cufflinks                 0.17.3                   pypi_0    pypi\r\n",
      "curl                      7.65.3               ha441bb4_0  \r\n",
      "cycler                    0.10.0                   py37_0  \r\n",
      "cython                    0.29.13          py37h0a44026_0  \r\n",
      "cytoolz                   0.10.0           py37h1de35cc_0  \r\n",
      "dask                      2.5.2                      py_0  \r\n",
      "dask-core                 2.5.2                      py_0  \r\n",
      "dbus                      1.13.6               h90a0687_0  \r\n",
      "decorator                 4.4.0                    py37_1  \r\n",
      "defusedxml                0.6.0                      py_0  \r\n",
      "distributed               2.5.2                      py_0  \r\n",
      "docutils                  0.15.2                   py37_0  \r\n",
      "entrypoints               0.3                      py37_0  \r\n",
      "et_xmlfile                1.0.1                    py37_0  \r\n",
      "expat                     2.2.6                h0a44026_0  \r\n",
      "fastcache                 1.1.0            py37h1de35cc_0  \r\n",
      "filelock                  3.0.12                     py_0  \r\n",
      "flask                     1.1.1                      py_0  \r\n",
      "freetype                  2.9.1                hb4e5f40_0  \r\n",
      "fsspec                    0.5.2                      py_0  \r\n",
      "future                    0.17.1                   py37_0  \r\n",
      "gast                      0.3.3                      py_0    conda-forge\r\n",
      "get_terminal_size         1.0.0                h7520d66_0  \r\n",
      "gettext                   0.19.8.1             h15daf44_3  \r\n",
      "gevent                    1.4.0            py37h1de35cc_0  \r\n",
      "glib                      2.56.2               hd9629dc_0  \r\n",
      "glob2                     0.7                        py_0  \r\n",
      "gmp                       6.1.2                hb37e062_1  \r\n",
      "gmpy2                     2.0.8            py37h6ef4df4_2  \r\n",
      "gplearn                   0.4.1                    pypi_0    pypi\r\n",
      "greenlet                  0.4.15           py37h1de35cc_0  \r\n",
      "grpcio                    1.23.0           py37h6ef0057_0    conda-forge\r\n",
      "h5py                      2.9.0            py37h3134771_0  \r\n",
      "hdf5                      1.10.4               hfa1e0ec_0  \r\n",
      "heapdict                  1.0.1                      py_0  \r\n",
      "html5lib                  1.0.1                    py37_0  \r\n",
      "icu                       58.2                 h4b95b61_1  \r\n",
      "idna                      2.8                      py37_0  \r\n",
      "imageio                   2.6.0                    py37_0  \r\n",
      "imagesize                 1.1.0                    py37_0  \r\n",
      "importlib_metadata        0.23                     py37_0  \r\n",
      "inflection                0.4.0                    pypi_0    pypi\r\n",
      "intel-openmp              2019.4                      233  \r\n",
      "ipykernel                 5.1.2            py37h39e3cac_0  \r\n",
      "ipython                   7.8.0            py37h39e3cac_0  \r\n",
      "ipython_genutils          0.2.0                    py37_0  \r\n",
      "ipywidgets                7.5.1                      py_0  \r\n",
      "isort                     4.3.21                   py37_0  \r\n",
      "itsdangerous              1.1.0                    py37_0  \r\n",
      "jbig                      2.1                  h4d881f8_0  \r\n",
      "jdcal                     1.4.1                      py_0  \r\n",
      "jedi                      0.15.1                   py37_0  \r\n",
      "jieba                     0.42.1                   pypi_0    pypi\r\n",
      "jinja2                    2.10.3                     py_0  \r\n",
      "joblib                    0.13.2                   py37_0  \r\n",
      "jpeg                      9b                   he5867d9_2  \r\n",
      "json5                     0.8.5                      py_0  \r\n",
      "jsonschema                3.0.2                    py37_0  \r\n",
      "jupyter                   1.0.0                    py37_7  \r\n",
      "jupyter_client            5.3.3                    py37_1  \r\n",
      "jupyter_console           6.0.0                    py37_0  \r\n",
      "jupyter_core              4.5.0                      py_0  \r\n",
      "jupyterlab                1.1.4              pyhf63ae98_0  \r\n",
      "jupyterlab_server         1.0.6                      py_0  \r\n",
      "keras-applications        1.0.8                      py_1    conda-forge\r\n",
      "keras-preprocessing       1.1.0                      py_0    conda-forge\r\n",
      "keyring                   18.0.0                   py37_0  \r\n",
      "kiwisolver                1.1.0            py37h0a44026_0  \r\n",
      "krb5                      1.16.1               hddcf347_7  \r\n",
      "lazy-object-proxy         1.4.2            py37h1de35cc_0  \r\n",
      "libarchive                3.3.3                h786848e_5  \r\n",
      "libcurl                   7.65.3               h051b688_0  \r\n",
      "libcxx                    4.0.1                hcfea43d_1  \r\n",
      "libcxxabi                 4.0.1                hcfea43d_1  \r\n",
      "libedit                   3.1.20181209         hb402a30_0  \r\n",
      "libffi                    3.2.1                h475c297_4  \r\n",
      "libgfortran               3.0.1                h93005f0_2  \r\n",
      "libiconv                  1.15                 hdd342a3_7  \r\n",
      "liblief                   0.9.0                h2a1bed3_2  \r\n",
      "libpng                    1.6.37               ha441bb4_0  \r\n",
      "libprotobuf               3.9.2                hfbae3c0_0    conda-forge\r\n",
      "libsodium                 1.0.16               h3efe00b_0  \r\n",
      "libssh2                   1.8.2                ha12b0ac_0  \r\n",
      "libtiff                   4.0.10               hcb84e12_2  \r\n",
      "libxml2                   2.9.9                hf6e021a_1  \r\n",
      "libxslt                   1.1.33               h33a18ac_0  \r\n",
      "llvm-openmp               4.0.1                hcfea43d_1  \r\n",
      "llvmlite                  0.29.0           py37h98b8051_0  \r\n",
      "locket                    0.2.0                    py37_1  \r\n",
      "lxml                      4.4.1            py37hef8c89e_0  \r\n",
      "lz4-c                     1.8.1.2              h1de35cc_0  \r\n",
      "lzo                       2.10                 h362108e_2  \r\n",
      "markdown                  3.2.1                      py_0    conda-forge\r\n",
      "markupsafe                1.1.1            py37h1de35cc_0  \r\n",
      "matplotlib                3.1.1            py37h54f8f79_0  \r\n",
      "mccabe                    0.6.1                    py37_1  \r\n",
      "mistune                   0.8.4            py37h1de35cc_0  \r\n",
      "mkl                       2019.4                      233  \r\n",
      "mkl-service               2.3.0            py37hfbe908c_0  \r\n",
      "mkl_fft                   1.0.14           py37h5e564d8_0  \r\n",
      "mkl_random                1.1.0            py37ha771720_0  \r\n",
      "mock                      3.0.5                    py37_0  \r\n",
      "more-itertools            7.2.0                    py37_0  \r\n",
      "mpc                       1.1.0                h6ef4df4_1  \r\n",
      "mpfr                      4.0.1                h3018a27_3  \r\n",
      "mpmath                    1.1.0                    py37_0  \r\n",
      "msgpack-python            0.6.1            py37h04f5b5a_1  \r\n",
      "multipledispatch          0.6.0                    py37_0  \r\n",
      "navigator-updater         0.2.1                    py37_0  \r\n",
      "nbconvert                 5.6.0                    py37_1  \r\n",
      "nbformat                  4.4.0                    py37_0  \r\n",
      "ncurses                   6.1                  h0a44026_1  \r\n",
      "networkx                  2.3                        py_0  \r\n",
      "nltk                      3.4.5                    py37_0  \r\n",
      "nose                      1.3.7                    py37_2  \r\n",
      "notebook                  6.0.1                    py37_0  \r\n",
      "numba                     0.45.1           py37h6440ff4_0  \r\n",
      "numexpr                   2.7.0            py37h7413580_0  \r\n",
      "numpy                     1.17.2           py37h99e6662_0  \r\n",
      "numpy-base                1.17.2           py37h6575580_0  \r\n",
      "numpydoc                  0.9.1                      py_0  \r\n",
      "olefile                   0.46                     py37_0  \r\n",
      "openpyxl                  3.0.0                      py_0  \r\n",
      "openssl                   1.1.1d               h1de35cc_2  \r\n",
      "packaging                 19.2                       py_0  \r\n",
      "pandas                    0.25.1           py37h0a44026_0  \r\n",
      "pandas-datareader         0.8.1                    pypi_0    pypi\r\n",
      "pandoc                    2.2.3.2                       0  \r\n",
      "pandocfilters             1.4.2                    py37_1  \r\n",
      "parso                     0.5.1                      py_0  \r\n",
      "partd                     1.0.0                      py_0  \r\n",
      "path.py                   12.0.1                     py_0  \r\n",
      "pathlib2                  2.3.5                    py37_0  \r\n",
      "patsy                     0.5.1                    py37_0  \r\n",
      "pcre                      8.43                 h0a44026_0  \r\n",
      "pdfkit                    0.6.1                    pypi_0    pypi\r\n",
      "pep8                      1.7.1                    py37_0  \r\n",
      "pexpect                   4.7.0                    py37_0  \r\n",
      "pickleshare               0.7.5                    py37_0  \r\n",
      "pillow                    6.2.0            py37hb68e598_0  \r\n",
      "pip                       19.2.3                   py37_0  \r\n",
      "pkginfo                   1.5.0.1                  py37_0  \r\n",
      "plotly                    4.5.2                    pypi_0    pypi\r\n",
      "pluggy                    0.13.0                   py37_0  \r\n",
      "ply                       3.11                     py37_0  \r\n",
      "prometheus_client         0.7.1                      py_0  \r\n",
      "prompt_toolkit            2.0.10                     py_0  \r\n",
      "protobuf                  3.9.2            py37h6de7cb9_1    conda-forge\r\n",
      "psutil                    5.6.3            py37h1de35cc_0  \r\n",
      "ptyprocess                0.6.0                    py37_0  \r\n",
      "py                        1.8.0                    py37_0  \r\n",
      "py-lief                   0.9.0            py37h1413db1_2  \r\n",
      "pycodestyle               2.5.0                    py37_0  \r\n",
      "pycosat                   0.6.3            py37h1de35cc_0  \r\n",
      "pycparser                 2.19                     py37_0  \r\n",
      "pycrypto                  2.6.1            py37h1de35cc_9  \r\n",
      "pycurl                    7.43.0.3         py37ha12b0ac_0  \r\n",
      "pyflakes                  2.1.1                    py37_0  \r\n",
      "pygments                  2.4.2                      py_0  \r\n",
      "pylint                    2.4.2                    py37_0  \r\n",
      "pyodbc                    4.0.27           py37h0a44026_0  \r\n",
      "pyopenssl                 19.0.0                   py37_0  \r\n",
      "pyparsing                 2.4.2                      py_0  \r\n",
      "pyqt                      5.9.2            py37h655552a_2  \r\n",
      "pyrsistent                0.15.4           py37h1de35cc_0  \r\n",
      "pysocks                   1.7.1                    py37_0  \r\n",
      "pytables                  3.5.2            py37h5bccee9_1  \r\n",
      "pytest                    5.2.1                    py37_0  \r\n",
      "pytest-arraydiff          0.3              py37h39e3cac_0  \r\n",
      "pytest-astropy            0.5.0                    py37_0  \r\n",
      "pytest-doctestplus        0.4.0                      py_0  \r\n",
      "pytest-openfiles          0.4.0                      py_0  \r\n",
      "pytest-remotedata         0.3.2                    py37_0  \r\n",
      "python                    3.7.4                h359304d_1  \r\n",
      "python-dateutil           2.8.0                    py37_0  \r\n",
      "python-graphviz           0.14                     pypi_0    pypi\r\n",
      "python-libarchive-c       2.8                     py37_13  \r\n",
      "python.app                2                        py37_9  \r\n",
      "python_abi                3.7                     1_cp37m    conda-forge\r\n",
      "pytz                      2019.3                     py_0  \r\n",
      "pywavelets                1.0.3            py37h1d22016_1  \r\n",
      "pyyaml                    5.1.2            py37h1de35cc_0  \r\n",
      "pyzmq                     18.1.0           py37h0a44026_0  \r\n",
      "qt                        5.9.7                h468cd18_1  \r\n",
      "qtawesome                 0.6.0                      py_0  \r\n",
      "qtconsole                 4.5.5                      py_0  \r\n",
      "qtpy                      1.9.0                      py_0  \r\n",
      "quandl                    3.5.0                    pypi_0    pypi\r\n",
      "quantlib                  1.18                     pypi_0    pypi\r\n",
      "quantlib-python           1.18                     pypi_0    pypi\r\n",
      "readline                  7.0                  h1de35cc_5  \r\n",
      "requests                  2.22.0                   py37_0  \r\n",
      "retrying                  1.3.3                    pypi_0    pypi\r\n",
      "ripgrep                   0.10.0               hc07d326_0  \r\n",
      "rope                      0.14.0                     py_0  \r\n",
      "ruamel_yaml               0.15.46          py37h1de35cc_0  \r\n",
      "scikit-image              0.15.0           py37h0a44026_0  \r\n",
      "scikit-learn              0.21.3           py37h27c97d8_0  \r\n",
      "scipy                     1.3.1            py37h1410ff5_0  \r\n",
      "seaborn                   0.9.0                    py37_0  \r\n",
      "send2trash                1.5.0                    py37_0  \r\n",
      "setuptools                46.1.3                   pypi_0    pypi\r\n",
      "simplegeneric             0.8.1                    py37_2  \r\n",
      "singledispatch            3.4.0.3                  py37_0  \r\n",
      "sip                       4.19.8           py37h0a44026_0  \r\n",
      "six                       1.12.0                   py37_0  \r\n",
      "snappy                    1.1.7                he62c110_3  \r\n",
      "snowballstemmer           2.0.0                      py_0  \r\n",
      "sortedcollections         1.1.2                    py37_0  \r\n",
      "sortedcontainers          2.1.0                    py37_0  \r\n",
      "soupsieve                 1.9.3                    py37_0  \r\n",
      "sphinx                    2.2.0                      py_0  \r\n",
      "sphinxcontrib             1.0                      py37_1  \r\n",
      "sphinxcontrib-applehelp   1.0.1                      py_0  \r\n",
      "sphinxcontrib-devhelp     1.0.1                      py_0  \r\n",
      "sphinxcontrib-htmlhelp    1.0.2                      py_0  \r\n",
      "sphinxcontrib-jsmath      1.0.1                      py_0  \r\n",
      "sphinxcontrib-qthelp      1.0.2                      py_0  \r\n",
      "sphinxcontrib-serializinghtml 1.1.3                      py_0  \r\n",
      "sphinxcontrib-websupport  1.1.2                      py_0  \r\n",
      "spyder                    3.3.6                    py37_0  \r\n",
      "spyder-kernels            0.5.2                    py37_0  \r\n",
      "sqlalchemy                1.3.9            py37h1de35cc_0  \r\n",
      "sqlite                    3.30.0               ha441bb4_0  \r\n",
      "statsmodels               0.10.1           py37h1d22016_0  \r\n",
      "sympy                     1.4                      py37_0  \r\n",
      "ta-lib                    0.4.18                   pypi_0    pypi\r\n",
      "tbb                       2019.8               h04f5b5a_0  \r\n",
      "tblib                     1.4.0                      py_0  \r\n",
      "tensorboard               1.13.1                   py37_0    conda-forge\r\n",
      "tensorflow                1.13.1               hfddd6c2_8    conda-forge\r\n",
      "tensorflow-base           1.13.1                   py37_8    conda-forge\r\n",
      "tensorflow-estimator      1.13.0           py37h24bf2e0_0    conda-forge\r\n",
      "termcolor                 1.1.0                      py_2    conda-forge\r\n",
      "terminado                 0.8.2                    py37_0  \r\n",
      "testpath                  0.4.2                    py37_0  \r\n",
      "tk                        8.6.8                ha441bb4_0  \r\n",
      "toolz                     0.10.0                     py_0  \r\n",
      "torch                     1.5.0                    pypi_0    pypi\r\n",
      "torchvision               0.6.0                    pypi_0    pypi\r\n",
      "tornado                   6.0.3            py37h1de35cc_0  \r\n",
      "tqdm                      4.36.1                     py_0  \r\n",
      "traitlets                 4.3.3                    py37_0  \r\n",
      "unicodecsv                0.14.1                   py37_0  \r\n",
      "unixodbc                  2.3.7                h1de35cc_0  \r\n",
      "urllib3                   1.24.2                   py37_0  \r\n",
      "wcwidth                   0.1.7                    py37_0  \r\n",
      "webencodings              0.5.1                    py37_1  \r\n",
      "werkzeug                  0.16.0                     py_0  \r\n",
      "wheel                     0.33.6                   py37_0  \r\n",
      "widgetsnbextension        3.5.1                    py37_0  \r\n",
      "wkhtmltopdf               0.2                      pypi_0    pypi\r\n",
      "wrapt                     1.11.2           py37h1de35cc_0  \r\n",
      "wurlitzer                 1.0.3                    py37_0  \r\n",
      "xlrd                      1.2.0                    py37_0  \r\n",
      "xlsxwriter                1.2.1                      py_0  \r\n",
      "xlwings                   0.15.10                  py37_0  \r\n",
      "xlwt                      1.3.0                    py37_0  \r\n",
      "xz                        5.2.4                h1de35cc_4  \r\n",
      "yaml                      0.1.7                hc338f04_2  \r\n",
      "zeromq                    4.3.1                h0a44026_3  \r\n",
      "zict                      1.0.0                      py_0  \r\n",
      "zipp                      0.6.0                      py_0  \r\n",
      "zlib                      1.2.11               h1de35cc_3  \r\n",
      "zstd                      1.3.7                h5bba6e5_0  \r\n"
     ]
    },
    {
     "name": "stdout",
     "output_type": "stream",
     "text": [
      "\n",
      "Note: you may need to restart the kernel to use updated packages.\n"
     ]
    }
   ],
   "source": [
    "conda list"
   ]
  },
  {
   "cell_type": "code",
   "execution_count": 19,
   "metadata": {},
   "outputs": [
    {
     "ename": "SyntaxError",
     "evalue": "invalid syntax (<ipython-input-19-761afdf59aaf>, line 2)",
     "output_type": "error",
     "traceback": [
      "\u001b[0;36m  File \u001b[0;32m\"<ipython-input-19-761afdf59aaf>\"\u001b[0;36m, line \u001b[0;32m2\u001b[0m\n\u001b[0;31m    conda install jupyter notebook\u001b[0m\n\u001b[0m                ^\u001b[0m\n\u001b[0;31mSyntaxError\u001b[0m\u001b[0;31m:\u001b[0m invalid syntax\n"
     ]
    }
   ],
   "source": [
    "conda install numpy pandas matplotlib\n",
    "conda install jupyter notebook"
   ]
  },
  {
   "cell_type": "code",
   "execution_count": 17,
   "metadata": {},
   "outputs": [
    {
     "name": "stdout",
     "output_type": "stream",
     "text": [
      "Note: you may need to restart the kernel to use updated packages.\n"
     ]
    }
   ],
   "source": [
    "pip freeze > requirements.txt"
   ]
  },
  {
   "cell_type": "code",
   "execution_count": 15,
   "metadata": {},
   "outputs": [
    {
     "name": "stdout",
     "output_type": "stream",
     "text": [
      "/bin/sh: conda: command not found\r\n"
     ]
    }
   ],
   "source": [
    "conda env export > environment.yaml\n",
    "conda env create -f environment.yaml"
   ]
  },
  {
   "cell_type": "markdown",
   "metadata": {},
   "source": [
    "check all environments"
   ]
  },
  {
   "cell_type": "code",
   "execution_count": 16,
   "metadata": {},
   "outputs": [
    {
     "name": "stdout",
     "output_type": "stream",
     "text": [
      "# conda environments:\n",
      "#\n",
      "base                  *  /Applications/anaconda3\n",
      "py36                     /Applications/anaconda3/envs/py36\n",
      "                         /Users/lzb/miniconda3\n",
      "\n",
      "\n",
      "Note: you may need to restart the kernel to use updated packages.\n"
     ]
    }
   ],
   "source": [
    "conda env list"
   ]
  },
  {
   "cell_type": "markdown",
   "metadata": {},
   "source": [
    "remove environment"
   ]
  },
  {
   "cell_type": "code",
   "execution_count": null,
   "metadata": {},
   "outputs": [],
   "source": [
    "conda env remove -n env_name"
   ]
  },
  {
   "cell_type": "code",
   "execution_count": null,
   "metadata": {},
   "outputs": [],
   "source": []
  }
 ],
 "metadata": {
  "kernelspec": {
   "display_name": "Python 3",
   "language": "python",
   "name": "python3"
  },
  "language_info": {
   "codemirror_mode": {
    "name": "ipython",
    "version": 3
   },
   "file_extension": ".py",
   "mimetype": "text/x-python",
   "name": "python",
   "nbconvert_exporter": "python",
   "pygments_lexer": "ipython3",
   "version": "3.7.4"
  }
 },
 "nbformat": 4,
 "nbformat_minor": 2
}
