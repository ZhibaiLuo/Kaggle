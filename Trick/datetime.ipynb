{
 "cells": [
  {
   "cell_type": "code",
   "execution_count": 5,
   "metadata": {},
   "outputs": [],
   "source": [
    "import datetime"
   ]
  },
  {
   "cell_type": "markdown",
   "metadata": {},
   "source": [
    "Write a Python script to display the various Date Time formats.\n",
    "\n",
    "a) Current date and time\n",
    "b) Current year\n",
    "c) Month of year\n",
    "d) Week number of the year\n",
    "e) Weekday of the week\n",
    "f) Day of year\n",
    "g) Day of the month\n",
    "h) Day of week"
   ]
  },
  {
   "cell_type": "code",
   "execution_count": 16,
   "metadata": {},
   "outputs": [
    {
     "name": "stdout",
     "output_type": "stream",
     "text": [
      "Current date and time:  2020-09-30 00:00:58.344036\n",
      "Current year:  2020\n",
      "Month of year:  September\n",
      "Week number of the year:  39\n",
      "Weekday of the week:  3\n",
      "Day of year:  274\n",
      "Day of the month :  30\n",
      "Day of week:  Wednesday\n",
      "2020\n",
      "9\n",
      "30\n",
      "2\n"
     ]
    }
   ],
   "source": [
    "print(\"Current date and time: \" , datetime.datetime.now())\n",
    "print(\"Current year: \", datetime.date.today().strftime(\"%Y\"))\n",
    "print(\"Month of year: \", datetime.date.today().strftime(\"%B\"))\n",
    "print(\"Week number of the year: \", datetime.date.today().strftime(\"%W\"))\n",
    "print(\"Weekday of the week: \", datetime.date.today().strftime(\"%w\"))\n",
    "print(\"Day of year: \", datetime.date.today().strftime(\"%j\"))\n",
    "print(\"Day of the month : \", datetime.date.today().strftime(\"%d\"))\n",
    "print(\"Day of week: \", datetime.date.today().strftime(\"%A\"))\n",
    "\n",
    "# other attribute\n",
    "print(datetime.date.today().year)\n",
    "print(datetime.date.today().month)\n",
    "print(datetime.date.today().day)\n",
    "print(datetime.date.today().weekday())"
   ]
  },
  {
   "cell_type": "markdown",
   "metadata": {},
   "source": [
    "Write a Python program to determine whether a given year is a leap year."
   ]
  },
  {
   "cell_type": "code",
   "execution_count": 13,
   "metadata": {},
   "outputs": [],
   "source": [
    "def leap_year(y):\n",
    "    if y % 400 == 0:\n",
    "        return True\n",
    "    if y % 100 == 0:\n",
    "        return False\n",
    "    if y % 4 == 0:\n",
    "        return True\n",
    "    else:\n",
    "        return False"
   ]
  },
  {
   "cell_type": "markdown",
   "metadata": {},
   "source": [
    "Write a Python program to convert a string to datetime.\n",
    "https://docs.python.org/3/library/datetime.html#strftime-strptime-behavior"
   ]
  },
  {
   "cell_type": "code",
   "execution_count": 24,
   "metadata": {},
   "outputs": [
    {
     "name": "stdout",
     "output_type": "stream",
     "text": [
      "2014/07/01, 14:43:00 PM\n"
     ]
    }
   ],
   "source": [
    "date_object = datetime.datetime.strptime('Jul 1 2014 2:43PM', '%b %d %Y %I:%M%p')\n",
    "print(date_object.strftime('%Y/%m/%d, %H:%M:%S %p'))"
   ]
  },
  {
   "cell_type": "code",
   "execution_count": null,
   "metadata": {},
   "outputs": [],
   "source": []
  },
  {
   "cell_type": "code",
   "execution_count": null,
   "metadata": {},
   "outputs": [],
   "source": []
  },
  {
   "cell_type": "code",
   "execution_count": null,
   "metadata": {},
   "outputs": [],
   "source": []
  },
  {
   "cell_type": "code",
   "execution_count": null,
   "metadata": {},
   "outputs": [],
   "source": []
  },
  {
   "cell_type": "code",
   "execution_count": null,
   "metadata": {},
   "outputs": [],
   "source": []
  },
  {
   "cell_type": "code",
   "execution_count": null,
   "metadata": {},
   "outputs": [],
   "source": []
  },
  {
   "cell_type": "code",
   "execution_count": null,
   "metadata": {},
   "outputs": [],
   "source": []
  },
  {
   "cell_type": "code",
   "execution_count": null,
   "metadata": {},
   "outputs": [],
   "source": []
  },
  {
   "cell_type": "code",
   "execution_count": 6,
   "metadata": {},
   "outputs": [],
   "source": [
    "def CheckContract(year):\n",
    "    # get a list of all dates in this year\n",
    "    string = str(year)\n",
    "    first = datetime.date(int(string),1,1)\n",
    "    last = datetime.date(int(string),12,31)\n",
    "    daylist = [first + timedelta(days=x) for x in range((last-first).days + 1)]\n",
    "    \n",
    "    # get a list of all Fridays in this year\n",
    "    fridaylist = [x for x in daylist if x.strftime(\"%A\") == 'Friday']\n",
    "    \n",
    "    # fill a list of last Friday in each month, length 12\n",
    "    lastFridayList = [first] * 12\n",
    "    for day in fridaylist:\n",
    "        month = day.month - 1\n",
    "        if day > lastFridayList[month]:\n",
    "            lastFridayList[month] = day\n",
    "            \n",
    "    # get quater contract by hard code\n",
    "    quaterContract = [lastFridayList[2], lastFridayList[5], lastFridayList[8], lastFridayList[11]]\n",
    "    \n",
    "    # print the result\n",
    "    print('Monthly contract:')\n",
    "    print([x.strftime(\"%Y%m%d\") for x in lastFridayList])\n",
    "    print('Quaterly contract:')\n",
    "    print([x.strftime(\"%Y%m%d\") for x in quaterContract])"
   ]
  },
  {
   "cell_type": "code",
   "execution_count": 7,
   "metadata": {},
   "outputs": [
    {
     "name": "stdout",
     "output_type": "stream",
     "text": [
      "Monthly contract:\n",
      "['20200131', '20200228', '20200327', '20200424', '20200529', '20200626', '20200731', '20200828', '20200925', '20201030', '20201127', '20201225']\n",
      "Quaterly contract:\n",
      "['20200327', '20200626', '20200925', '20201225']\n"
     ]
    }
   ],
   "source": [
    "CheckContract(2020)"
   ]
  },
  {
   "cell_type": "code",
   "execution_count": null,
   "metadata": {},
   "outputs": [],
   "source": []
  }
 ],
 "metadata": {
  "kernelspec": {
   "display_name": "Python 3",
   "language": "python",
   "name": "python3"
  },
  "language_info": {
   "codemirror_mode": {
    "name": "ipython",
    "version": 3
   },
   "file_extension": ".py",
   "mimetype": "text/x-python",
   "name": "python",
   "nbconvert_exporter": "python",
   "pygments_lexer": "ipython3",
   "version": "3.7.4"
  }
 },
 "nbformat": 4,
 "nbformat_minor": 2
}
