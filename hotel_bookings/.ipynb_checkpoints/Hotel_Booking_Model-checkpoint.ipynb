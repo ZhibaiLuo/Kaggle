{
 "cells": [
  {
   "cell_type": "code",
   "execution_count": 9,
   "metadata": {},
   "outputs": [],
   "source": [
    "import numpy as np\n",
    "import pandas as pd\n",
    "import matplotlib.pyplot as plt\n",
    "import tensorflow as tf\n",
    "from tensorflow.keras.models import Sequential\n",
    "from tensorflow.keras.layers import Dense, Activation, Dropout"
   ]
  },
  {
   "cell_type": "code",
   "execution_count": 10,
   "metadata": {},
   "outputs": [],
   "source": [
    "data = pd.read_csv('./data/data_arr_df.csv', header = None)\n",
    "X_arr = data.values[:,1:]\n",
    "y_arr = data.values[:,0]"
   ]
  },
  {
   "cell_type": "code",
   "execution_count": 11,
   "metadata": {},
   "outputs": [
    {
     "name": "stdout",
     "output_type": "stream",
     "text": [
      "(119390, 1184) (119390,)\n",
      "(89542, 1184) (29848, 1184) (89542,) (29848,)\n"
     ]
    }
   ],
   "source": [
    "print(X_arr.shape, y_arr.shape)\n",
    "from sklearn.model_selection import train_test_split\n",
    "X_train, X_test, y_train, y_test = train_test_split(X_arr,y_arr,test_size=0.25,random_state=2019)\n",
    "print(X_train.shape, X_test.shape, y_train.shape, y_test.shape)"
   ]
  },
  {
   "cell_type": "code",
   "execution_count": 12,
   "metadata": {},
   "outputs": [],
   "source": [
    "model = Sequential()\n",
    "\n",
    "#adding dropout layers for improved learning\n",
    "model.add(Dense(units=30,activation='relu'))\n",
    "model.add(Dropout(0.5))\n",
    "\n",
    "model.add(Dense(units=20,activation='relu'))\n",
    "model.add(Dropout(0.5))\n",
    "\n",
    "model.add(Dense(units=10,activation='relu'))\n",
    "model.add(Dropout(0.5))\n",
    "\n",
    "model.add(Dense(units=1,activation='sigmoid'))\n",
    "\n",
    "# For a binary classification problem\n",
    "model.compile(loss='binary_crossentropy', optimizer='adam',metrics=['accuracy'])"
   ]
  },
  {
   "cell_type": "code",
   "execution_count": 13,
   "metadata": {},
   "outputs": [
    {
     "name": "stdout",
     "output_type": "stream",
     "text": [
      "Train on 89542 samples, validate on 29848 samples\n",
      "Epoch 1/100\n",
      "89542/89542 [==============================] - 5s 53us/sample - loss: 0.4368 - accuracy: 0.7914 - val_loss: 0.3173 - val_accuracy: 0.8592\n",
      "Epoch 2/100\n",
      "89542/89542 [==============================] - 4s 47us/sample - loss: 0.3507 - accuracy: 0.8436 - val_loss: 0.2767 - val_accuracy: 0.8786\n",
      "Epoch 3/100\n",
      "89542/89542 [==============================] - 4s 46us/sample - loss: 0.3197 - accuracy: 0.8602 - val_loss: 0.2576 - val_accuracy: 0.8912\n",
      "Epoch 4/100\n",
      "89542/89542 [==============================] - 4s 46us/sample - loss: 0.2929 - accuracy: 0.8753 - val_loss: 0.2315 - val_accuracy: 0.9059\n",
      "Epoch 5/100\n",
      "89542/89542 [==============================] - 4s 46us/sample - loss: 0.2744 - accuracy: 0.8853 - val_loss: 0.2111 - val_accuracy: 0.9202\n",
      "Epoch 6/100\n",
      "89542/89542 [==============================] - 4s 46us/sample - loss: 0.2549 - accuracy: 0.8960 - val_loss: 0.1933 - val_accuracy: 0.9289\n",
      "Epoch 7/100\n",
      "89542/89542 [==============================] - 4s 47us/sample - loss: 0.2459 - accuracy: 0.8995 - val_loss: 0.1854 - val_accuracy: 0.9292\n",
      "Epoch 8/100\n",
      "89542/89542 [==============================] - 4s 47us/sample - loss: 0.2335 - accuracy: 0.9058 - val_loss: 0.1734 - val_accuracy: 0.9416\n",
      "Epoch 9/100\n",
      "89542/89542 [==============================] - 4s 46us/sample - loss: 0.2266 - accuracy: 0.9099 - val_loss: 0.1706 - val_accuracy: 0.9400\n",
      "Epoch 10/100\n",
      "89542/89542 [==============================] - 4s 46us/sample - loss: 0.2187 - accuracy: 0.9147 - val_loss: 0.1572 - val_accuracy: 0.9473\n",
      "Epoch 11/100\n",
      "89542/89542 [==============================] - 4s 47us/sample - loss: 0.2122 - accuracy: 0.9164 - val_loss: 0.1599 - val_accuracy: 0.9450\n",
      "Epoch 12/100\n",
      "89542/89542 [==============================] - 4s 47us/sample - loss: 0.2034 - accuracy: 0.9214 - val_loss: 0.1511 - val_accuracy: 0.9522\n",
      "Epoch 13/100\n",
      "89542/89542 [==============================] - 4s 47us/sample - loss: 0.2041 - accuracy: 0.9204 - val_loss: 0.1458 - val_accuracy: 0.9531\n",
      "Epoch 14/100\n",
      "89542/89542 [==============================] - 4s 47us/sample - loss: 0.1957 - accuracy: 0.9246 - val_loss: 0.1390 - val_accuracy: 0.9580\n",
      "Epoch 15/100\n",
      "89542/89542 [==============================] - 4s 46us/sample - loss: 0.1938 - accuracy: 0.9269 - val_loss: 0.1372 - val_accuracy: 0.9570\n",
      "Epoch 16/100\n",
      "89542/89542 [==============================] - 4s 47us/sample - loss: 0.1905 - accuracy: 0.9264 - val_loss: 0.1354 - val_accuracy: 0.9597\n",
      "Epoch 17/100\n",
      "89542/89542 [==============================] - 4s 46us/sample - loss: 0.1881 - accuracy: 0.9284 - val_loss: 0.1375 - val_accuracy: 0.9561\n",
      "Epoch 18/100\n",
      "89542/89542 [==============================] - 4s 47us/sample - loss: 0.1811 - accuracy: 0.9311 - val_loss: 0.1325 - val_accuracy: 0.9589\n",
      "Epoch 19/100\n",
      "89542/89542 [==============================] - 4s 46us/sample - loss: 0.1782 - accuracy: 0.9325 - val_loss: 0.1292 - val_accuracy: 0.9611\n",
      "Epoch 20/100\n",
      "89542/89542 [==============================] - 4s 46us/sample - loss: 0.1768 - accuracy: 0.9323 - val_loss: 0.1284 - val_accuracy: 0.9630\n",
      "Epoch 21/100\n",
      "89542/89542 [==============================] - 4s 47us/sample - loss: 0.1765 - accuracy: 0.9343 - val_loss: 0.1234 - val_accuracy: 0.9626\n",
      "Epoch 22/100\n",
      "89542/89542 [==============================] - 4s 46us/sample - loss: 0.1730 - accuracy: 0.9355 - val_loss: 0.1227 - val_accuracy: 0.9648\n",
      "Epoch 23/100\n",
      "89542/89542 [==============================] - 4s 47us/sample - loss: 0.1723 - accuracy: 0.9359 - val_loss: 0.1284 - val_accuracy: 0.9614\n",
      "Epoch 24/100\n",
      "89542/89542 [==============================] - 4s 47us/sample - loss: 0.1686 - accuracy: 0.9367 - val_loss: 0.1195 - val_accuracy: 0.9658\n",
      "Epoch 25/100\n",
      "89542/89542 [==============================] - 4s 47us/sample - loss: 0.1644 - accuracy: 0.9386 - val_loss: 0.1204 - val_accuracy: 0.9658\n",
      "Epoch 26/100\n",
      "89542/89542 [==============================] - 4s 46us/sample - loss: 0.1618 - accuracy: 0.9400 - val_loss: 0.1187 - val_accuracy: 0.9679\n",
      "Epoch 27/100\n",
      "89542/89542 [==============================] - 4s 47us/sample - loss: 0.1618 - accuracy: 0.9403 - val_loss: 0.1133 - val_accuracy: 0.9705\n",
      "Epoch 28/100\n",
      "89542/89542 [==============================] - 4s 47us/sample - loss: 0.1558 - accuracy: 0.9424 - val_loss: 0.1155 - val_accuracy: 0.9694\n",
      "Epoch 29/100\n",
      "89542/89542 [==============================] - 4s 47us/sample - loss: 0.1582 - accuracy: 0.9420 - val_loss: 0.1091 - val_accuracy: 0.9700\n",
      "Epoch 30/100\n",
      "89542/89542 [==============================] - 4s 47us/sample - loss: 0.1548 - accuracy: 0.9425 - val_loss: 0.1155 - val_accuracy: 0.9664\n",
      "Epoch 31/100\n",
      "89542/89542 [==============================] - 4s 47us/sample - loss: 0.1545 - accuracy: 0.9425 - val_loss: 0.1099 - val_accuracy: 0.9701\n",
      "Epoch 32/100\n",
      "89542/89542 [==============================] - 4s 50us/sample - loss: 0.1515 - accuracy: 0.9437 - val_loss: 0.1104 - val_accuracy: 0.9693\n",
      "Epoch 33/100\n",
      "89542/89542 [==============================] - 5s 53us/sample - loss: 0.1508 - accuracy: 0.9444 - val_loss: 0.1134 - val_accuracy: 0.9715\n",
      "Epoch 34/100\n",
      "89542/89542 [==============================] - 5s 52us/sample - loss: 0.1518 - accuracy: 0.9442 - val_loss: 0.1120 - val_accuracy: 0.9708\n",
      "Epoch 00034: early stopping\n"
     ]
    },
    {
     "data": {
      "text/plain": [
       "<tensorflow.python.keras.callbacks.History at 0x20457ad10c8>"
      ]
     },
     "execution_count": 13,
     "metadata": {},
     "output_type": "execute_result"
    }
   ],
   "source": [
    "from tensorflow.keras.callbacks import EarlyStopping\n",
    "early_stop = EarlyStopping(monitor='val_loss', mode='min', verbose=1, patience=5)\n",
    "\n",
    "model.fit(x=X_train, \n",
    "          y=y_train, \n",
    "          epochs=100,\n",
    "          validation_data=(X_test, y_test), verbose=1,callbacks=[early_stop]\n",
    "          )"
   ]
  },
  {
   "cell_type": "code",
   "execution_count": 14,
   "metadata": {},
   "outputs": [
    {
     "data": {
      "text/plain": [
       "<matplotlib.axes._subplots.AxesSubplot at 0x20457761608>"
      ]
     },
     "execution_count": 14,
     "metadata": {},
     "output_type": "execute_result"
    },
    {
     "data": {
      "image/png": "[encoded data removed]",
      "text/plain": [
       "<Figure size 432x288 with 1 Axes>"
      ]
     },
     "metadata": {
      "needs_background": "light"
     },
     "output_type": "display_data"
    }
   ],
   "source": [
    "model_loss = pd.DataFrame(model.history.history)\n",
    "model_loss.plot()"
   ]
  },
  {
   "cell_type": "code",
   "execution_count": 15,
   "metadata": {},
   "outputs": [
    {
     "name": "stdout",
     "output_type": "stream",
     "text": [
      "              precision    recall  f1-score   support\n",
      "\n",
      "         0.0       0.96      0.99      0.98     18732\n",
      "         1.0       0.98      0.94      0.96     11116\n",
      "\n",
      "    accuracy                           0.97     29848\n",
      "   macro avg       0.97      0.96      0.97     29848\n",
      "weighted avg       0.97      0.97      0.97     29848\n",
      "\n",
      "[[18553   179]\n",
      " [  693 10423]]\n"
     ]
    }
   ],
   "source": [
    "predictions = model.predict_classes(X_test)\n",
    "from sklearn.metrics import classification_report,confusion_matrix\n",
    "print(classification_report(y_test,predictions))\n",
    "print(confusion_matrix(y_test,predictions))"
   ]
  },
  {
   "cell_type": "code",
   "execution_count": 16,
   "metadata": {},
   "outputs": [
    {
     "name": "stdout",
     "output_type": "stream",
     "text": [
      "Model: Logistic\n"
     ]
    },
    {
     "name": "stderr",
     "output_type": "stream",
     "text": [
      "D:\\Anaconda3\\lib\\site-packages\\sklearn\\linear_model\\logistic.py:947: ConvergenceWarning: lbfgs failed to converge. Increase the number of iterations.\n",
      "  \"of iterations.\", ConvergenceWarning)\n"
     ]
    },
    {
     "name": "stdout",
     "output_type": "stream",
     "text": [
      "              precision    recall  f1-score   support\n",
      "\n",
      "         0.0       0.86      0.93      0.89     18732\n",
      "         1.0       0.86      0.75      0.80     11116\n",
      "\n",
      "    accuracy                           0.86     29848\n",
      "   macro avg       0.86      0.84      0.85     29848\n",
      "weighted avg       0.86      0.86      0.86     29848\n",
      "\n",
      "[[17386  1346]\n",
      " [ 2826  8290]]\n",
      "Model: Random Forest\n",
      "              precision    recall  f1-score   support\n",
      "\n",
      "         0.0       0.90      0.96      0.93     18732\n",
      "         1.0       0.93      0.82      0.87     11116\n",
      "\n",
      "    accuracy                           0.91     29848\n",
      "   macro avg       0.92      0.89      0.90     29848\n",
      "weighted avg       0.91      0.91      0.91     29848\n",
      "\n",
      "[[18048   684]\n",
      " [ 2001  9115]]\n"
     ]
    }
   ],
   "source": [
    "from sklearn.linear_model import LogisticRegression\n",
    "from sklearn.svm import SVC\n",
    "from sklearn.ensemble import RandomForestClassifier\n",
    "\n",
    "logistic_clf = LogisticRegression(solver = 'lbfgs')\n",
    "svm_clf = SVC(gamma=\"auto\")\n",
    "forest_clf = RandomForestClassifier(n_estimators=100, random_state=42)\n",
    "\n",
    "for name, clf in { \"Logistic\": logistic_clf,\n",
    "#                    \"SVM\": svm_clf,\n",
    "                   \"Random Forest\": forest_clf\n",
    "                 }.items():\n",
    "    \n",
    "    print(\"Model: {m:s}\".format(m=name) )\n",
    "    \n",
    "    # Transform the data\n",
    "    _ = clf.fit(X_train, y_train)\n",
    "    y_pred = clf.predict(X_test)\n",
    "\n",
    "    \n",
    "    print(classification_report(y_test,y_pred))\n",
    "    print(confusion_matrix(y_test,y_pred))\n"
   ]
  },
  {
   "cell_type": "code",
   "execution_count": null,
   "metadata": {},
   "outputs": [],
   "source": []
  }
 ],
 "metadata": {
  "kernelspec": {
   "display_name": "Python 3",
   "language": "python",
   "name": "python3"
  },
  "language_info": {
   "codemirror_mode": {
    "name": "ipython",
    "version": 3
   },
   "file_extension": ".py",
   "mimetype": "text/x-python",
   "name": "python",
   "nbconvert_exporter": "python",
   "pygments_lexer": "ipython3",
   "version": "3.7.4"
  }
 },
 "nbformat": 4,
 "nbformat_minor": 2
}
