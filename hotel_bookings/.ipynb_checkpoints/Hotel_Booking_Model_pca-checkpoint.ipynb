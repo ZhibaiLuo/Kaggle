{
 "cells": [
  {
   "cell_type": "code",
   "execution_count": 1,
   "metadata": {},
   "outputs": [
    {
     "name": "stderr",
     "output_type": "stream",
     "text": [
      "/Applications/anaconda3/lib/python3.7/site-packages/tensorflow/python/framework/dtypes.py:526: FutureWarning: Passing (type, 1) or '1type' as a synonym of type is deprecated; in a future version of numpy, it will be understood as (type, (1,)) / '(1,)type'.\n",
      "  _np_qint8 = np.dtype([(\"qint8\", np.int8, 1)])\n",
      "/Applications/anaconda3/lib/python3.7/site-packages/tensorflow/python/framework/dtypes.py:527: FutureWarning: Passing (type, 1) or '1type' as a synonym of type is deprecated; in a future version of numpy, it will be understood as (type, (1,)) / '(1,)type'.\n",
      "  _np_quint8 = np.dtype([(\"quint8\", np.uint8, 1)])\n",
      "/Applications/anaconda3/lib/python3.7/site-packages/tensorflow/python/framework/dtypes.py:528: FutureWarning: Passing (type, 1) or '1type' as a synonym of type is deprecated; in a future version of numpy, it will be understood as (type, (1,)) / '(1,)type'.\n",
      "  _np_qint16 = np.dtype([(\"qint16\", np.int16, 1)])\n",
      "/Applications/anaconda3/lib/python3.7/site-packages/tensorflow/python/framework/dtypes.py:529: FutureWarning: Passing (type, 1) or '1type' as a synonym of type is deprecated; in a future version of numpy, it will be understood as (type, (1,)) / '(1,)type'.\n",
      "  _np_quint16 = np.dtype([(\"quint16\", np.uint16, 1)])\n",
      "/Applications/anaconda3/lib/python3.7/site-packages/tensorflow/python/framework/dtypes.py:530: FutureWarning: Passing (type, 1) or '1type' as a synonym of type is deprecated; in a future version of numpy, it will be understood as (type, (1,)) / '(1,)type'.\n",
      "  _np_qint32 = np.dtype([(\"qint32\", np.int32, 1)])\n",
      "/Applications/anaconda3/lib/python3.7/site-packages/tensorflow/python/framework/dtypes.py:535: FutureWarning: Passing (type, 1) or '1type' as a synonym of type is deprecated; in a future version of numpy, it will be understood as (type, (1,)) / '(1,)type'.\n",
      "  np_resource = np.dtype([(\"resource\", np.ubyte, 1)])\n"
     ]
    }
   ],
   "source": [
    "import numpy as np\n",
    "import pandas as pd\n",
    "import matplotlib.pyplot as plt\n",
    "import tensorflow as tf\n",
    "from tensorflow.keras.models import Sequential\n",
    "from tensorflow.keras.layers import Dense, Activation, Dropout"
   ]
  },
  {
   "cell_type": "code",
   "execution_count": 2,
   "metadata": {},
   "outputs": [],
   "source": [
    "data = pd.read_csv('./data/pca_data_arr_df.csv', header = None)\n",
    "X_arr = data.values[:,1:]\n",
    "y_arr = data.values[:,0]"
   ]
  },
  {
   "cell_type": "code",
   "execution_count": 3,
   "metadata": {},
   "outputs": [
    {
     "name": "stdout",
     "output_type": "stream",
     "text": [
      "(119390, 418) (119390,)\n",
      "(89542, 418) (29848, 418) (89542,) (29848,)\n"
     ]
    }
   ],
   "source": [
    "print(X_arr.shape, y_arr.shape)\n",
    "from sklearn.model_selection import train_test_split\n",
    "X_train, X_test, y_train, y_test = train_test_split(X_arr,y_arr,test_size=0.25,random_state=2019)\n",
    "print(X_train.shape, X_test.shape, y_train.shape, y_test.shape)"
   ]
  },
  {
   "cell_type": "code",
   "execution_count": 4,
   "metadata": {},
   "outputs": [
    {
     "name": "stdout",
     "output_type": "stream",
     "text": [
      "WARNING:tensorflow:From /Applications/anaconda3/lib/python3.7/site-packages/tensorflow/python/ops/resource_variable_ops.py:435: colocate_with (from tensorflow.python.framework.ops) is deprecated and will be removed in a future version.\n",
      "Instructions for updating:\n",
      "Colocations handled automatically by placer.\n"
     ]
    }
   ],
   "source": [
    "model = Sequential()\n",
    "\n",
    "#adding dropout layers for improved learning\n",
    "model.add(Dense(units=30,activation='relu'))\n",
    "model.add(Dropout(0.5))\n",
    "\n",
    "model.add(Dense(units=20,activation='relu'))\n",
    "model.add(Dropout(0.5))\n",
    "\n",
    "model.add(Dense(units=10,activation='relu'))\n",
    "model.add(Dropout(0.5))\n",
    "\n",
    "model.add(Dense(units=1,activation='sigmoid'))\n",
    "\n",
    "# For a binary classification problem\n",
    "model.compile(loss='binary_crossentropy', optimizer='adam',metrics=['accuracy'])"
   ]
  },
  {
   "cell_type": "code",
   "execution_count": null,
   "metadata": {},
   "outputs": [
    {
     "name": "stdout",
     "output_type": "stream",
     "text": [
      "WARNING:tensorflow:From /Applications/anaconda3/lib/python3.7/site-packages/tensorflow/python/keras/layers/core.py:143: calling dropout (from tensorflow.python.ops.nn_ops) with keep_prob is deprecated and will be removed in a future version.\n",
      "Instructions for updating:\n",
      "Please use `rate` instead of `keep_prob`. Rate should be set to `rate = 1 - keep_prob`.\n",
      "Train on 89542 samples, validate on 29848 samples\n",
      "WARNING:tensorflow:From /Applications/anaconda3/lib/python3.7/site-packages/tensorflow/python/ops/math_ops.py:3066: to_int32 (from tensorflow.python.ops.math_ops) is deprecated and will be removed in a future version.\n",
      "Instructions for updating:\n",
      "Use tf.cast instead.\n",
      "Epoch 1/100\n",
      "89542/89542 [==============================] - 5s 57us/sample - loss: 0.4653 - acc: 0.7652 - val_loss: 0.3413 - val_acc: 0.8442\n",
      "Epoch 2/100\n",
      "89542/89542 [==============================] - 5s 50us/sample - loss: 0.3881 - acc: 0.8080 - val_loss: 0.3276 - val_acc: 0.8519\n",
      "Epoch 3/100\n",
      "89542/89542 [==============================] - 4s 50us/sample - loss: 0.3766 - acc: 0.8308 - val_loss: 0.3178 - val_acc: 0.8567\n",
      "Epoch 4/100\n",
      "89542/89542 [==============================] - 4s 50us/sample - loss: 0.3681 - acc: 0.8384 - val_loss: 0.3104 - val_acc: 0.8622\n",
      "Epoch 5/100\n",
      "89542/89542 [==============================] - 5s 58us/sample - loss: 0.3620 - acc: 0.8396 - val_loss: 0.3071 - val_acc: 0.8630\n",
      "Epoch 6/100\n",
      "89542/89542 [==============================] - 5s 51us/sample - loss: 0.3575 - acc: 0.8438 - val_loss: 0.3066 - val_acc: 0.8655\n",
      "Epoch 7/100\n",
      "89542/89542 [==============================] - 5s 53us/sample - loss: 0.3530 - acc: 0.8462 - val_loss: 0.2998 - val_acc: 0.8644\n",
      "Epoch 8/100\n",
      "89542/89542 [==============================] - 5s 51us/sample - loss: 0.3504 - acc: 0.8485 - val_loss: 0.2966 - val_acc: 0.8670\n",
      "Epoch 9/100\n",
      "89542/89542 [==============================] - 5s 51us/sample - loss: 0.3485 - acc: 0.8492 - val_loss: 0.2978 - val_acc: 0.8651\n",
      "Epoch 10/100\n",
      "89542/89542 [==============================] - 4s 49us/sample - loss: 0.3430 - acc: 0.8501 - val_loss: 0.2923 - val_acc: 0.8688\n",
      "Epoch 11/100\n",
      "89542/89542 [==============================] - 4s 49us/sample - loss: 0.3407 - acc: 0.8514 - val_loss: 0.2901 - val_acc: 0.8715\n",
      "Epoch 12/100\n",
      "89542/89542 [==============================] - 4s 49us/sample - loss: 0.3411 - acc: 0.8512 - val_loss: 0.2906 - val_acc: 0.8732\n",
      "Epoch 13/100\n",
      "89542/89542 [==============================] - 5s 52us/sample - loss: 0.3368 - acc: 0.8544 - val_loss: 0.2874 - val_acc: 0.8710\n",
      "Epoch 14/100\n",
      "89542/89542 [==============================] - 5s 51us/sample - loss: 0.3372 - acc: 0.8541 - val_loss: 0.2853 - val_acc: 0.8710\n",
      "Epoch 15/100\n",
      "89542/89542 [==============================] - 5s 53us/sample - loss: 0.3351 - acc: 0.8540 - val_loss: 0.2854 - val_acc: 0.8700\n",
      "Epoch 16/100\n",
      "89542/89542 [==============================] - 5s 52us/sample - loss: 0.3349 - acc: 0.8555 - val_loss: 0.2854 - val_acc: 0.8690\n",
      "Epoch 17/100\n",
      "89542/89542 [==============================] - 5s 51us/sample - loss: 0.3309 - acc: 0.8582 - val_loss: 0.2800 - val_acc: 0.8739\n",
      "Epoch 18/100\n",
      "89542/89542 [==============================] - 5s 52us/sample - loss: 0.3301 - acc: 0.8577 - val_loss: 0.2800 - val_acc: 0.8749\n",
      "Epoch 19/100\n",
      "89542/89542 [==============================] - 5s 52us/sample - loss: 0.3284 - acc: 0.8580 - val_loss: 0.2805 - val_acc: 0.8757\n",
      "Epoch 20/100\n",
      "89542/89542 [==============================] - 4s 50us/sample - loss: 0.3292 - acc: 0.8583 - val_loss: 0.2756 - val_acc: 0.8780\n",
      "Epoch 21/100\n",
      "89408/89542 [============================>.] - ETA: 0s - loss: 0.3263 - acc: 0.8586"
     ]
    }
   ],
   "source": [
    "from tensorflow.keras.callbacks import EarlyStopping\n",
    "early_stop = EarlyStopping(monitor='val_loss', mode='min', verbose=1, patience=5)\n",
    "\n",
    "model.fit(x=X_train, \n",
    "          y=y_train, \n",
    "          epochs=100,\n",
    "          validation_data=(X_test, y_test), verbose=1,callbacks=[early_stop]\n",
    "          )"
   ]
  },
  {
   "cell_type": "code",
   "execution_count": null,
   "metadata": {},
   "outputs": [],
   "source": [
    "model_loss = pd.DataFrame(model.history.history)\n",
    "model_loss.plot()"
   ]
  },
  {
   "cell_type": "code",
   "execution_count": null,
   "metadata": {},
   "outputs": [],
   "source": [
    "predictions = model.predict_classes(X_test)\n",
    "from sklearn.metrics import classification_report,confusion_matrix\n",
    "print(classification_report(y_test,predictions))\n",
    "print(confusion_matrix(y_test,predictions))"
   ]
  },
  {
   "cell_type": "code",
   "execution_count": null,
   "metadata": {},
   "outputs": [],
   "source": [
    "from sklearn.linear_model import LogisticRegression\n",
    "LR = LogisticRegression(solver = 'lbfgs')\n",
    "LR.fit(X_train,y_train)\n"
   ]
  },
  {
   "cell_type": "code",
   "execution_count": null,
   "metadata": {},
   "outputs": [],
   "source": [
    "y_pred = LR.predict(X_test)\n",
    "print(classification_report(y_test,y_pred))\n",
    "print(confusion_matrix(y_test,y_pred))"
   ]
  },
  {
   "cell_type": "code",
   "execution_count": null,
   "metadata": {},
   "outputs": [],
   "source": []
  }
 ],
 "metadata": {
  "kernelspec": {
   "display_name": "Python 3",
   "language": "python",
   "name": "python3"
  },
  "language_info": {
   "codemirror_mode": {
    "name": "ipython",
    "version": 3
   },
   "file_extension": ".py",
   "mimetype": "text/x-python",
   "name": "python",
   "nbconvert_exporter": "python",
   "pygments_lexer": "ipython3",
   "version": "3.7.4"
  }
 },
 "nbformat": 4,
 "nbformat_minor": 2
}
