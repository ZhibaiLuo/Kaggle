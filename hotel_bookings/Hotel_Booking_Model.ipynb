{
 "cells": [
  {
   "cell_type": "code",
   "execution_count": 1,
   "metadata": {
    "collapsed": true
   },
   "outputs": [
    {
     "name": "stderr",
     "output_type": "stream",
     "text": [
      "/Applications/anaconda3/lib/python3.7/site-packages/tensorflow/python/framework/dtypes.py:526: FutureWarning: Passing (type, 1) or '1type' as a synonym of type is deprecated; in a future version of numpy, it will be understood as (type, (1,)) / '(1,)type'.\n",
      "  _np_qint8 = np.dtype([(\"qint8\", np.int8, 1)])\n",
      "/Applications/anaconda3/lib/python3.7/site-packages/tensorflow/python/framework/dtypes.py:527: FutureWarning: Passing (type, 1) or '1type' as a synonym of type is deprecated; in a future version of numpy, it will be understood as (type, (1,)) / '(1,)type'.\n",
      "  _np_quint8 = np.dtype([(\"quint8\", np.uint8, 1)])\n",
      "/Applications/anaconda3/lib/python3.7/site-packages/tensorflow/python/framework/dtypes.py:528: FutureWarning: Passing (type, 1) or '1type' as a synonym of type is deprecated; in a future version of numpy, it will be understood as (type, (1,)) / '(1,)type'.\n",
      "  _np_qint16 = np.dtype([(\"qint16\", np.int16, 1)])\n",
      "/Applications/anaconda3/lib/python3.7/site-packages/tensorflow/python/framework/dtypes.py:529: FutureWarning: Passing (type, 1) or '1type' as a synonym of type is deprecated; in a future version of numpy, it will be understood as (type, (1,)) / '(1,)type'.\n",
      "  _np_quint16 = np.dtype([(\"quint16\", np.uint16, 1)])\n",
      "/Applications/anaconda3/lib/python3.7/site-packages/tensorflow/python/framework/dtypes.py:530: FutureWarning: Passing (type, 1) or '1type' as a synonym of type is deprecated; in a future version of numpy, it will be understood as (type, (1,)) / '(1,)type'.\n",
      "  _np_qint32 = np.dtype([(\"qint32\", np.int32, 1)])\n",
      "/Applications/anaconda3/lib/python3.7/site-packages/tensorflow/python/framework/dtypes.py:535: FutureWarning: Passing (type, 1) or '1type' as a synonym of type is deprecated; in a future version of numpy, it will be understood as (type, (1,)) / '(1,)type'.\n",
      "  np_resource = np.dtype([(\"resource\", np.ubyte, 1)])\n"
     ]
    }
   ],
   "source": [
    "import numpy as np\n",
    "import pandas as pd\n",
    "import matplotlib.pyplot as plt\n",
    "import tensorflow as tf\n",
    "from tensorflow.keras.models import Sequential\n",
    "from tensorflow.keras.layers import Dense, Activation, Dropout"
   ]
  },
  {
   "cell_type": "code",
   "execution_count": 2,
   "metadata": {},
   "outputs": [],
   "source": [
    "data = pd.read_csv('./data/data_arr_df.csv', header = None)\n",
    "X_arr = data.values[:,1:]\n",
    "y_arr = data.values[:,0]"
   ]
  },
  {
   "cell_type": "code",
   "execution_count": 3,
   "metadata": {},
   "outputs": [
    {
     "name": "stdout",
     "output_type": "stream",
     "text": [
      "(119390, 1184) (119390,)\n",
      "(89542, 1184) (29848, 1184) (89542,) (29848,)\n"
     ]
    }
   ],
   "source": [
    "print(X_arr.shape, y_arr.shape)\n",
    "from sklearn.model_selection import train_test_split\n",
    "X_train, X_test, y_train, y_test = train_test_split(X_arr,y_arr,test_size=0.25,random_state=2019)\n",
    "print(X_train.shape, X_test.shape, y_train.shape, y_test.shape)"
   ]
  },
  {
   "cell_type": "code",
   "execution_count": 4,
   "metadata": {},
   "outputs": [
    {
     "name": "stdout",
     "output_type": "stream",
     "text": [
      "WARNING:tensorflow:From /Applications/anaconda3/lib/python3.7/site-packages/tensorflow/python/ops/resource_variable_ops.py:435: colocate_with (from tensorflow.python.framework.ops) is deprecated and will be removed in a future version.\n",
      "Instructions for updating:\n",
      "Colocations handled automatically by placer.\n"
     ]
    }
   ],
   "source": [
    "model = Sequential()\n",
    "\n",
    "#adding dropout layers for improved learning\n",
    "model.add(Dense(units=30,activation='relu'))\n",
    "model.add(Dropout(0.5))\n",
    "\n",
    "model.add(Dense(units=20,activation='relu'))\n",
    "model.add(Dropout(0.5))\n",
    "\n",
    "model.add(Dense(units=10,activation='relu'))\n",
    "model.add(Dropout(0.5))\n",
    "\n",
    "model.add(Dense(units=1,activation='sigmoid'))\n",
    "\n",
    "# For a binary classification problem\n",
    "model.compile(loss='binary_crossentropy', optimizer='adam',metrics=['accuracy'])"
   ]
  },
  {
   "cell_type": "code",
   "execution_count": 5,
   "metadata": {
    "collapsed": true
   },
   "outputs": [
    {
     "name": "stdout",
     "output_type": "stream",
     "text": [
      "WARNING:tensorflow:From /Applications/anaconda3/lib/python3.7/site-packages/tensorflow/python/keras/layers/core.py:143: calling dropout (from tensorflow.python.ops.nn_ops) with keep_prob is deprecated and will be removed in a future version.\n",
      "Instructions for updating:\n",
      "Please use `rate` instead of `keep_prob`. Rate should be set to `rate = 1 - keep_prob`.\n",
      "Train on 89542 samples, validate on 29848 samples\n",
      "WARNING:tensorflow:From /Applications/anaconda3/lib/python3.7/site-packages/tensorflow/python/ops/math_ops.py:3066: to_int32 (from tensorflow.python.ops.math_ops) is deprecated and will be removed in a future version.\n",
      "Instructions for updating:\n",
      "Use tf.cast instead.\n",
      "Epoch 1/100\n",
      "89542/89542 [==============================] - 5s 60us/sample - loss: 0.4444 - acc: 0.7945 - val_loss: 0.3124 - val_acc: 0.8600\n",
      "Epoch 2/100\n",
      "89542/89542 [==============================] - 5s 57us/sample - loss: 0.3496 - acc: 0.8453 - val_loss: 0.2775 - val_acc: 0.8811\n",
      "Epoch 3/100\n",
      "89542/89542 [==============================] - 5s 57us/sample - loss: 0.3194 - acc: 0.8630 - val_loss: 0.2516 - val_acc: 0.8966\n",
      "Epoch 4/100\n",
      "89542/89542 [==============================] - 5s 58us/sample - loss: 0.2959 - acc: 0.8765 - val_loss: 0.2351 - val_acc: 0.9068\n",
      "Epoch 5/100\n",
      "89542/89542 [==============================] - 5s 58us/sample - loss: 0.2764 - acc: 0.8865 - val_loss: 0.2112 - val_acc: 0.9216\n",
      "Epoch 6/100\n",
      "89542/89542 [==============================] - 5s 57us/sample - loss: 0.2620 - acc: 0.8956 - val_loss: 0.1871 - val_acc: 0.9321\n",
      "Epoch 7/100\n",
      "89542/89542 [==============================] - 5s 57us/sample - loss: 0.2512 - acc: 0.9014 - val_loss: 0.1874 - val_acc: 0.9290\n",
      "Epoch 8/100\n",
      "89542/89542 [==============================] - 5s 57us/sample - loss: 0.2398 - acc: 0.9064 - val_loss: 0.1814 - val_acc: 0.9339\n",
      "Epoch 9/100\n",
      "89542/89542 [==============================] - 5s 59us/sample - loss: 0.2321 - acc: 0.9116 - val_loss: 0.1672 - val_acc: 0.9399\n",
      "Epoch 10/100\n",
      "89542/89542 [==============================] - 5s 61us/sample - loss: 0.2249 - acc: 0.9158 - val_loss: 0.1607 - val_acc: 0.9458\n",
      "Epoch 11/100\n",
      "89542/89542 [==============================] - 5s 58us/sample - loss: 0.2153 - acc: 0.9205 - val_loss: 0.1555 - val_acc: 0.9475\n",
      "Epoch 12/100\n",
      "89542/89542 [==============================] - 5s 57us/sample - loss: 0.2111 - acc: 0.9228 - val_loss: 0.1581 - val_acc: 0.9475\n",
      "Epoch 13/100\n",
      "89542/89542 [==============================] - 5s 57us/sample - loss: 0.2054 - acc: 0.9241 - val_loss: 0.1477 - val_acc: 0.9499\n",
      "Epoch 14/100\n",
      "89542/89542 [==============================] - 5s 57us/sample - loss: 0.2038 - acc: 0.9251 - val_loss: 0.1400 - val_acc: 0.9561\n",
      "Epoch 15/100\n",
      "89542/89542 [==============================] - 5s 57us/sample - loss: 0.1992 - acc: 0.9282 - val_loss: 0.1363 - val_acc: 0.9575\n",
      "Epoch 16/100\n",
      "89542/89542 [==============================] - 5s 57us/sample - loss: 0.1939 - acc: 0.9304 - val_loss: 0.1399 - val_acc: 0.9520\n",
      "Epoch 17/100\n",
      "89542/89542 [==============================] - 5s 57us/sample - loss: 0.1868 - acc: 0.9328 - val_loss: 0.1280 - val_acc: 0.9615\n",
      "Epoch 18/100\n",
      "89542/89542 [==============================] - 5s 57us/sample - loss: 0.1896 - acc: 0.9321 - val_loss: 0.1297 - val_acc: 0.9587\n",
      "Epoch 19/100\n",
      "89542/89542 [==============================] - 5s 57us/sample - loss: 0.1895 - acc: 0.9325 - val_loss: 0.1339 - val_acc: 0.9553\n",
      "Epoch 20/100\n",
      "89542/89542 [==============================] - 5s 57us/sample - loss: 0.1802 - acc: 0.9350 - val_loss: 0.1293 - val_acc: 0.9596\n",
      "Epoch 21/100\n",
      "89542/89542 [==============================] - 5s 57us/sample - loss: 0.1814 - acc: 0.9360 - val_loss: 0.1266 - val_acc: 0.9605\n",
      "Epoch 22/100\n",
      "89542/89542 [==============================] - 5s 57us/sample - loss: 0.1756 - acc: 0.9385 - val_loss: 0.1176 - val_acc: 0.9635\n",
      "Epoch 23/100\n",
      "89542/89542 [==============================] - 5s 57us/sample - loss: 0.1778 - acc: 0.9363 - val_loss: 0.1185 - val_acc: 0.9645\n",
      "Epoch 24/100\n",
      "89542/89542 [==============================] - 5s 57us/sample - loss: 0.1719 - acc: 0.9392 - val_loss: 0.1171 - val_acc: 0.9662\n",
      "Epoch 25/100\n",
      "89542/89542 [==============================] - 5s 57us/sample - loss: 0.1702 - acc: 0.9400 - val_loss: 0.1183 - val_acc: 0.9662\n",
      "Epoch 26/100\n",
      "89542/89542 [==============================] - 5s 57us/sample - loss: 0.1711 - acc: 0.9400 - val_loss: 0.1176 - val_acc: 0.9658\n",
      "Epoch 27/100\n",
      "89542/89542 [==============================] - 5s 57us/sample - loss: 0.1699 - acc: 0.9401 - val_loss: 0.1144 - val_acc: 0.9666\n",
      "Epoch 28/100\n",
      "89542/89542 [==============================] - 5s 57us/sample - loss: 0.1701 - acc: 0.9400 - val_loss: 0.1123 - val_acc: 0.9678\n",
      "Epoch 29/100\n",
      "89542/89542 [==============================] - 5s 58us/sample - loss: 0.1650 - acc: 0.9428 - val_loss: 0.1109 - val_acc: 0.9674\n",
      "Epoch 30/100\n",
      "89542/89542 [==============================] - 5s 57us/sample - loss: 0.1626 - acc: 0.9426 - val_loss: 0.1104 - val_acc: 0.9689\n",
      "Epoch 31/100\n",
      "89542/89542 [==============================] - 5s 57us/sample - loss: 0.1617 - acc: 0.9435 - val_loss: 0.1095 - val_acc: 0.9702\n",
      "Epoch 32/100\n",
      "89542/89542 [==============================] - 5s 57us/sample - loss: 0.1610 - acc: 0.9434 - val_loss: 0.1093 - val_acc: 0.9672\n",
      "Epoch 33/100\n",
      "89542/89542 [==============================] - 5s 57us/sample - loss: 0.1617 - acc: 0.9438 - val_loss: 0.1055 - val_acc: 0.9685\n",
      "Epoch 34/100\n",
      "89542/89542 [==============================] - 5s 58us/sample - loss: 0.1567 - acc: 0.9459 - val_loss: 0.1034 - val_acc: 0.9713\n",
      "Epoch 35/100\n",
      "89542/89542 [==============================] - 5s 58us/sample - loss: 0.1572 - acc: 0.9450 - val_loss: 0.1023 - val_acc: 0.9721\n",
      "Epoch 36/100\n",
      "89542/89542 [==============================] - 5s 58us/sample - loss: 0.1549 - acc: 0.9470 - val_loss: 0.1012 - val_acc: 0.9734\n",
      "Epoch 37/100\n",
      "89542/89542 [==============================] - 5s 58us/sample - loss: 0.1544 - acc: 0.9467 - val_loss: 0.1051 - val_acc: 0.9701\n",
      "Epoch 38/100\n",
      "89542/89542 [==============================] - 5s 57us/sample - loss: 0.1522 - acc: 0.9471 - val_loss: 0.1041 - val_acc: 0.9716\n",
      "Epoch 39/100\n",
      "89542/89542 [==============================] - 5s 57us/sample - loss: 0.1485 - acc: 0.9497 - val_loss: 0.1030 - val_acc: 0.9703\n",
      "Epoch 40/100\n",
      "89542/89542 [==============================] - 5s 57us/sample - loss: 0.1500 - acc: 0.9488 - val_loss: 0.0997 - val_acc: 0.9744\n",
      "Epoch 41/100\n",
      "89542/89542 [==============================] - 5s 57us/sample - loss: 0.1507 - acc: 0.9477 - val_loss: 0.0994 - val_acc: 0.9730\n",
      "Epoch 42/100\n",
      "89542/89542 [==============================] - 5s 57us/sample - loss: 0.1493 - acc: 0.9488 - val_loss: 0.1002 - val_acc: 0.9737\n",
      "Epoch 43/100\n",
      "89542/89542 [==============================] - 5s 57us/sample - loss: 0.1500 - acc: 0.9491 - val_loss: 0.1004 - val_acc: 0.9741\n",
      "Epoch 44/100\n",
      "89542/89542 [==============================] - 5s 57us/sample - loss: 0.1458 - acc: 0.9500 - val_loss: 0.0990 - val_acc: 0.9733\n",
      "Epoch 45/100\n",
      "89542/89542 [==============================] - 5s 58us/sample - loss: 0.1467 - acc: 0.9495 - val_loss: 0.0977 - val_acc: 0.9738\n",
      "Epoch 46/100\n",
      "89542/89542 [==============================] - 5s 57us/sample - loss: 0.1425 - acc: 0.9513 - val_loss: 0.0980 - val_acc: 0.9727\n",
      "Epoch 47/100\n",
      "89542/89542 [==============================] - 5s 59us/sample - loss: 0.1430 - acc: 0.9512 - val_loss: 0.0940 - val_acc: 0.9758\n",
      "Epoch 48/100\n",
      "89542/89542 [==============================] - 5s 57us/sample - loss: 0.1442 - acc: 0.9512 - val_loss: 0.1035 - val_acc: 0.9738\n",
      "Epoch 49/100\n",
      "89542/89542 [==============================] - 5s 59us/sample - loss: 0.1504 - acc: 0.9494 - val_loss: 0.1006 - val_acc: 0.9743\n",
      "Epoch 50/100\n",
      "89542/89542 [==============================] - 5s 59us/sample - loss: 0.1432 - acc: 0.9516 - val_loss: 0.0969 - val_acc: 0.9752\n",
      "Epoch 51/100\n",
      "89542/89542 [==============================] - 5s 59us/sample - loss: 0.1419 - acc: 0.9519 - val_loss: 0.1001 - val_acc: 0.9727\n",
      "Epoch 52/100\n",
      "89542/89542 [==============================] - 5s 58us/sample - loss: 0.1409 - acc: 0.9523 - val_loss: 0.0989 - val_acc: 0.9759\n",
      "Epoch 00052: early stopping\n"
     ]
    },
    {
     "data": {
      "text/plain": [
       "<tensorflow.python.keras.callbacks.History at 0x62b274d90>"
      ]
     },
     "execution_count": 5,
     "metadata": {},
     "output_type": "execute_result"
    }
   ],
   "source": [
    "from tensorflow.keras.callbacks import EarlyStopping\n",
    "early_stop = EarlyStopping(monitor='val_loss', mode='min', verbose=1, patience=5)\n",
    "\n",
    "model.fit(x=X_train, \n",
    "          y=y_train, \n",
    "          epochs=100,\n",
    "          validation_data=(X_test, y_test), verbose=1,callbacks=[early_stop]\n",
    "          )"
   ]
  },
  {
   "cell_type": "code",
   "execution_count": 6,
   "metadata": {},
   "outputs": [
    {
     "data": {
      "text/plain": [
       "<matplotlib.axes._subplots.AxesSubplot at 0x62bbc2bd0>"
      ]
     },
     "execution_count": 6,
     "metadata": {},
     "output_type": "execute_result"
    },
    {
     "data": {
      "image/png": "[encoded data removed]",
      "text/plain": [
       "<Figure size 432x288 with 1 Axes>"
      ]
     },
     "metadata": {
      "needs_background": "light"
     },
     "output_type": "display_data"
    }
   ],
   "source": [
    "model_loss = pd.DataFrame(model.history.history)\n",
    "model_loss.plot()"
   ]
  },
  {
   "cell_type": "code",
   "execution_count": 7,
   "metadata": {},
   "outputs": [
    {
     "name": "stdout",
     "output_type": "stream",
     "text": [
      "              precision    recall  f1-score   support\n",
      "\n",
      "         0.0       0.97      0.99      0.98     18732\n",
      "         1.0       0.99      0.95      0.97     11116\n",
      "\n",
      "    accuracy                           0.98     29848\n",
      "   macro avg       0.98      0.97      0.97     29848\n",
      "weighted avg       0.98      0.98      0.98     29848\n",
      "\n",
      "[[18582   150]\n",
      " [  568 10548]]\n"
     ]
    }
   ],
   "source": [
    "predictions = model.predict_classes(X_test)\n",
    "from sklearn.metrics import classification_report,confusion_matrix\n",
    "print(classification_report(y_test,predictions))\n",
    "print(confusion_matrix(y_test,predictions))"
   ]
  },
  {
   "cell_type": "code",
   "execution_count": 13,
   "metadata": {},
   "outputs": [
    {
     "name": "stderr",
     "output_type": "stream",
     "text": [
      "/Applications/anaconda3/lib/python3.7/site-packages/sklearn/linear_model/logistic.py:947: ConvergenceWarning: lbfgs failed to converge. Increase the number of iterations.\n",
      "  \"of iterations.\", ConvergenceWarning)\n"
     ]
    },
    {
     "data": {
      "text/plain": [
       "LogisticRegression(C=1.0, class_weight=None, dual=False, fit_intercept=True,\n",
       "                   intercept_scaling=1, l1_ratio=None, max_iter=100,\n",
       "                   multi_class='warn', n_jobs=None, penalty='l2',\n",
       "                   random_state=None, solver='lbfgs', tol=0.0001, verbose=0,\n",
       "                   warm_start=False)"
      ]
     },
     "execution_count": 13,
     "metadata": {},
     "output_type": "execute_result"
    }
   ],
   "source": [
    "from sklearn.linear_model import LogisticRegression\n",
    "LR = LogisticRegression(solver = 'lbfgs')\n",
    "LR.fit(X_train,y_train)\n"
   ]
  },
  {
   "cell_type": "code",
   "execution_count": 14,
   "metadata": {},
   "outputs": [
    {
     "name": "stdout",
     "output_type": "stream",
     "text": [
      "              precision    recall  f1-score   support\n",
      "\n",
      "         0.0       0.86      0.93      0.89     18732\n",
      "         1.0       0.86      0.75      0.80     11116\n",
      "\n",
      "    accuracy                           0.86     29848\n",
      "   macro avg       0.86      0.84      0.85     29848\n",
      "weighted avg       0.86      0.86      0.86     29848\n",
      "\n",
      "[[17386  1346]\n",
      " [ 2826  8290]]\n"
     ]
    }
   ],
   "source": [
    "y_pred = LR.predict(X_test)\n",
    "print(classification_report(y_test,y_pred))\n",
    "print(confusion_matrix(y_test,y_pred))"
   ]
  },
  {
   "cell_type": "code",
   "execution_count": null,
   "metadata": {},
   "outputs": [],
   "source": []
  }
 ],
 "metadata": {
  "kernelspec": {
   "display_name": "Python 3",
   "language": "python",
   "name": "python3"
  },
  "language_info": {
   "codemirror_mode": {
    "name": "ipython",
    "version": 3
   },
   "file_extension": ".py",
   "mimetype": "text/x-python",
   "name": "python",
   "nbconvert_exporter": "python",
   "pygments_lexer": "ipython3",
   "version": "3.7.4"
  }
 },
 "nbformat": 4,
 "nbformat_minor": 2
}
