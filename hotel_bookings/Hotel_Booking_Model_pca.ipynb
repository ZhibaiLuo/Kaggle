{
 "cells": [
  {
   "cell_type": "code",
   "execution_count": 1,
   "metadata": {},
   "outputs": [
    {
     "name": "stderr",
     "output_type": "stream",
     "text": [
      "/Applications/anaconda3/lib/python3.7/site-packages/tensorflow/python/framework/dtypes.py:526: FutureWarning: Passing (type, 1) or '1type' as a synonym of type is deprecated; in a future version of numpy, it will be understood as (type, (1,)) / '(1,)type'.\n",
      "  _np_qint8 = np.dtype([(\"qint8\", np.int8, 1)])\n",
      "/Applications/anaconda3/lib/python3.7/site-packages/tensorflow/python/framework/dtypes.py:527: FutureWarning: Passing (type, 1) or '1type' as a synonym of type is deprecated; in a future version of numpy, it will be understood as (type, (1,)) / '(1,)type'.\n",
      "  _np_quint8 = np.dtype([(\"quint8\", np.uint8, 1)])\n",
      "/Applications/anaconda3/lib/python3.7/site-packages/tensorflow/python/framework/dtypes.py:528: FutureWarning: Passing (type, 1) or '1type' as a synonym of type is deprecated; in a future version of numpy, it will be understood as (type, (1,)) / '(1,)type'.\n",
      "  _np_qint16 = np.dtype([(\"qint16\", np.int16, 1)])\n",
      "/Applications/anaconda3/lib/python3.7/site-packages/tensorflow/python/framework/dtypes.py:529: FutureWarning: Passing (type, 1) or '1type' as a synonym of type is deprecated; in a future version of numpy, it will be understood as (type, (1,)) / '(1,)type'.\n",
      "  _np_quint16 = np.dtype([(\"quint16\", np.uint16, 1)])\n",
      "/Applications/anaconda3/lib/python3.7/site-packages/tensorflow/python/framework/dtypes.py:530: FutureWarning: Passing (type, 1) or '1type' as a synonym of type is deprecated; in a future version of numpy, it will be understood as (type, (1,)) / '(1,)type'.\n",
      "  _np_qint32 = np.dtype([(\"qint32\", np.int32, 1)])\n",
      "/Applications/anaconda3/lib/python3.7/site-packages/tensorflow/python/framework/dtypes.py:535: FutureWarning: Passing (type, 1) or '1type' as a synonym of type is deprecated; in a future version of numpy, it will be understood as (type, (1,)) / '(1,)type'.\n",
      "  np_resource = np.dtype([(\"resource\", np.ubyte, 1)])\n"
     ]
    }
   ],
   "source": [
    "import numpy as np\n",
    "import pandas as pd\n",
    "import matplotlib.pyplot as plt\n",
    "import tensorflow as tf\n",
    "from tensorflow.keras.models import Sequential\n",
    "from tensorflow.keras.layers import Dense, Activation, Dropout"
   ]
  },
  {
   "cell_type": "code",
   "execution_count": 2,
   "metadata": {},
   "outputs": [],
   "source": [
    "data = pd.read_csv('./data/pca_data_arr_df.csv', header = None)\n",
    "X_arr = data.values[:,1:]\n",
    "y_arr = data.values[:,0]"
   ]
  },
  {
   "cell_type": "code",
   "execution_count": 3,
   "metadata": {},
   "outputs": [
    {
     "name": "stdout",
     "output_type": "stream",
     "text": [
      "(119390, 418) (119390,)\n",
      "(89542, 418) (29848, 418) (89542,) (29848,)\n"
     ]
    }
   ],
   "source": [
    "print(X_arr.shape, y_arr.shape)\n",
    "from sklearn.model_selection import train_test_split\n",
    "X_train, X_test, y_train, y_test = train_test_split(X_arr,y_arr,test_size=0.25,random_state=2019)\n",
    "print(X_train.shape, X_test.shape, y_train.shape, y_test.shape)"
   ]
  },
  {
   "cell_type": "code",
   "execution_count": 4,
   "metadata": {},
   "outputs": [
    {
     "name": "stdout",
     "output_type": "stream",
     "text": [
      "WARNING:tensorflow:From /Applications/anaconda3/lib/python3.7/site-packages/tensorflow/python/ops/resource_variable_ops.py:435: colocate_with (from tensorflow.python.framework.ops) is deprecated and will be removed in a future version.\n",
      "Instructions for updating:\n",
      "Colocations handled automatically by placer.\n"
     ]
    }
   ],
   "source": [
    "model = Sequential()\n",
    "\n",
    "#adding dropout layers for improved learning\n",
    "model.add(Dense(units=30,activation='relu'))\n",
    "model.add(Dropout(0.5))\n",
    "\n",
    "model.add(Dense(units=20,activation='relu'))\n",
    "model.add(Dropout(0.5))\n",
    "\n",
    "model.add(Dense(units=10,activation='relu'))\n",
    "model.add(Dropout(0.5))\n",
    "\n",
    "model.add(Dense(units=1,activation='sigmoid'))\n",
    "\n",
    "# For a binary classification problem\n",
    "model.compile(loss='binary_crossentropy', optimizer='adam',metrics=['accuracy'])"
   ]
  },
  {
   "cell_type": "code",
   "execution_count": 5,
   "metadata": {
    "scrolled": false
   },
   "outputs": [
    {
     "name": "stdout",
     "output_type": "stream",
     "text": [
      "WARNING:tensorflow:From /Applications/anaconda3/lib/python3.7/site-packages/tensorflow/python/keras/layers/core.py:143: calling dropout (from tensorflow.python.ops.nn_ops) with keep_prob is deprecated and will be removed in a future version.\n",
      "Instructions for updating:\n",
      "Please use `rate` instead of `keep_prob`. Rate should be set to `rate = 1 - keep_prob`.\n",
      "Train on 89542 samples, validate on 29848 samples\n",
      "WARNING:tensorflow:From /Applications/anaconda3/lib/python3.7/site-packages/tensorflow/python/ops/math_ops.py:3066: to_int32 (from tensorflow.python.ops.math_ops) is deprecated and will be removed in a future version.\n",
      "Instructions for updating:\n",
      "Use tf.cast instead.\n",
      "Epoch 1/100\n",
      "89542/89542 [==============================] - 5s 57us/sample - loss: 0.4653 - acc: 0.7652 - val_loss: 0.3413 - val_acc: 0.8442\n",
      "Epoch 2/100\n",
      "89542/89542 [==============================] - 5s 50us/sample - loss: 0.3881 - acc: 0.8080 - val_loss: 0.3276 - val_acc: 0.8519\n",
      "Epoch 3/100\n",
      "89542/89542 [==============================] - 4s 50us/sample - loss: 0.3766 - acc: 0.8308 - val_loss: 0.3178 - val_acc: 0.8567\n",
      "Epoch 4/100\n",
      "89542/89542 [==============================] - 4s 50us/sample - loss: 0.3681 - acc: 0.8384 - val_loss: 0.3104 - val_acc: 0.8622\n",
      "Epoch 5/100\n",
      "89542/89542 [==============================] - 5s 58us/sample - loss: 0.3620 - acc: 0.8396 - val_loss: 0.3071 - val_acc: 0.8630\n",
      "Epoch 6/100\n",
      "89542/89542 [==============================] - 5s 51us/sample - loss: 0.3575 - acc: 0.8438 - val_loss: 0.3066 - val_acc: 0.8655\n",
      "Epoch 7/100\n",
      "89542/89542 [==============================] - 5s 53us/sample - loss: 0.3530 - acc: 0.8462 - val_loss: 0.2998 - val_acc: 0.8644\n",
      "Epoch 8/100\n",
      "89542/89542 [==============================] - 5s 51us/sample - loss: 0.3504 - acc: 0.8485 - val_loss: 0.2966 - val_acc: 0.8670\n",
      "Epoch 9/100\n",
      "89542/89542 [==============================] - 5s 51us/sample - loss: 0.3485 - acc: 0.8492 - val_loss: 0.2978 - val_acc: 0.8651\n",
      "Epoch 10/100\n",
      "89542/89542 [==============================] - 4s 49us/sample - loss: 0.3430 - acc: 0.8501 - val_loss: 0.2923 - val_acc: 0.8688\n",
      "Epoch 11/100\n",
      "89542/89542 [==============================] - 4s 49us/sample - loss: 0.3407 - acc: 0.8514 - val_loss: 0.2901 - val_acc: 0.8715\n",
      "Epoch 12/100\n",
      "89542/89542 [==============================] - 4s 49us/sample - loss: 0.3411 - acc: 0.8512 - val_loss: 0.2906 - val_acc: 0.8732\n",
      "Epoch 13/100\n",
      "89542/89542 [==============================] - 5s 52us/sample - loss: 0.3368 - acc: 0.8544 - val_loss: 0.2874 - val_acc: 0.8710\n",
      "Epoch 14/100\n",
      "89542/89542 [==============================] - 5s 51us/sample - loss: 0.3372 - acc: 0.8541 - val_loss: 0.2853 - val_acc: 0.8710\n",
      "Epoch 15/100\n",
      "89542/89542 [==============================] - 5s 53us/sample - loss: 0.3351 - acc: 0.8540 - val_loss: 0.2854 - val_acc: 0.8700\n",
      "Epoch 16/100\n",
      "89542/89542 [==============================] - 5s 52us/sample - loss: 0.3349 - acc: 0.8555 - val_loss: 0.2854 - val_acc: 0.8690\n",
      "Epoch 17/100\n",
      "89542/89542 [==============================] - 5s 51us/sample - loss: 0.3309 - acc: 0.8582 - val_loss: 0.2800 - val_acc: 0.8739\n",
      "Epoch 18/100\n",
      "89542/89542 [==============================] - 5s 52us/sample - loss: 0.3301 - acc: 0.8577 - val_loss: 0.2800 - val_acc: 0.8749\n",
      "Epoch 19/100\n",
      "89542/89542 [==============================] - 5s 52us/sample - loss: 0.3284 - acc: 0.8580 - val_loss: 0.2805 - val_acc: 0.8757\n",
      "Epoch 20/100\n",
      "89542/89542 [==============================] - 4s 50us/sample - loss: 0.3292 - acc: 0.8583 - val_loss: 0.2756 - val_acc: 0.8780\n",
      "Epoch 21/100\n",
      "89542/89542 [==============================] - 5s 52us/sample - loss: 0.3263 - acc: 0.8587 - val_loss: 0.2738 - val_acc: 0.8804\n",
      "Epoch 22/100\n",
      "89542/89542 [==============================] - 5s 50us/sample - loss: 0.3240 - acc: 0.8604 - val_loss: 0.2776 - val_acc: 0.8757\n",
      "Epoch 23/100\n",
      "89542/89542 [==============================] - 5s 54us/sample - loss: 0.3248 - acc: 0.8611 - val_loss: 0.2741 - val_acc: 0.8759\n",
      "Epoch 24/100\n",
      "89542/89542 [==============================] - 5s 52us/sample - loss: 0.3235 - acc: 0.8607 - val_loss: 0.2733 - val_acc: 0.8807\n",
      "Epoch 25/100\n",
      "89542/89542 [==============================] - 5s 50us/sample - loss: 0.3230 - acc: 0.8629 - val_loss: 0.2724 - val_acc: 0.8785\n",
      "Epoch 26/100\n",
      "89542/89542 [==============================] - 5s 50us/sample - loss: 0.3211 - acc: 0.8620 - val_loss: 0.2719 - val_acc: 0.8795\n",
      "Epoch 27/100\n",
      "89542/89542 [==============================] - 5s 50us/sample - loss: 0.3218 - acc: 0.8617 - val_loss: 0.2703 - val_acc: 0.8820\n",
      "Epoch 28/100\n",
      "89542/89542 [==============================] - 5s 51us/sample - loss: 0.3198 - acc: 0.8652 - val_loss: 0.2688 - val_acc: 0.8812\n",
      "Epoch 29/100\n",
      "89542/89542 [==============================] - 4s 50us/sample - loss: 0.3205 - acc: 0.8635 - val_loss: 0.2687 - val_acc: 0.8801\n",
      "Epoch 30/100\n",
      "89542/89542 [==============================] - 4s 50us/sample - loss: 0.3178 - acc: 0.8655 - val_loss: 0.2677 - val_acc: 0.8817\n",
      "Epoch 31/100\n",
      "89542/89542 [==============================] - 5s 51us/sample - loss: 0.3179 - acc: 0.8664 - val_loss: 0.2676 - val_acc: 0.8830\n",
      "Epoch 32/100\n",
      "89542/89542 [==============================] - 5s 51us/sample - loss: 0.3193 - acc: 0.8645 - val_loss: 0.2656 - val_acc: 0.8817\n",
      "Epoch 33/100\n",
      "89542/89542 [==============================] - 5s 50us/sample - loss: 0.3165 - acc: 0.8652 - val_loss: 0.2630 - val_acc: 0.8826\n",
      "Epoch 34/100\n",
      "89542/89542 [==============================] - 5s 52us/sample - loss: 0.3155 - acc: 0.8672 - val_loss: 0.2625 - val_acc: 0.8894\n",
      "Epoch 35/100\n",
      "89542/89542 [==============================] - 5s 50us/sample - loss: 0.3150 - acc: 0.8669 - val_loss: 0.2640 - val_acc: 0.8842\n",
      "Epoch 36/100\n",
      "89542/89542 [==============================] - 5s 52us/sample - loss: 0.3161 - acc: 0.8649 - val_loss: 0.2644 - val_acc: 0.8833\n",
      "Epoch 37/100\n",
      "89542/89542 [==============================] - 5s 51us/sample - loss: 0.3132 - acc: 0.8678 - val_loss: 0.2599 - val_acc: 0.8869\n",
      "Epoch 38/100\n",
      "89542/89542 [==============================] - 5s 51us/sample - loss: 0.3133 - acc: 0.8669 - val_loss: 0.2599 - val_acc: 0.8844\n",
      "Epoch 39/100\n",
      "89542/89542 [==============================] - 4s 50us/sample - loss: 0.3107 - acc: 0.8683 - val_loss: 0.2598 - val_acc: 0.8906\n",
      "Epoch 40/100\n",
      "89542/89542 [==============================] - 4s 50us/sample - loss: 0.3101 - acc: 0.8675 - val_loss: 0.2604 - val_acc: 0.8881\n",
      "Epoch 41/100\n",
      "89542/89542 [==============================] - 4s 49us/sample - loss: 0.3109 - acc: 0.8691 - val_loss: 0.2580 - val_acc: 0.8924\n",
      "Epoch 42/100\n",
      "89542/89542 [==============================] - 4s 49us/sample - loss: 0.3084 - acc: 0.8700 - val_loss: 0.2575 - val_acc: 0.8905\n",
      "Epoch 43/100\n",
      "89542/89542 [==============================] - 4s 50us/sample - loss: 0.3080 - acc: 0.8705 - val_loss: 0.2580 - val_acc: 0.8890\n",
      "Epoch 44/100\n",
      "89542/89542 [==============================] - 4s 50us/sample - loss: 0.3086 - acc: 0.8707 - val_loss: 0.2586 - val_acc: 0.8923\n",
      "Epoch 45/100\n",
      "89542/89542 [==============================] - 4s 49us/sample - loss: 0.3100 - acc: 0.8690 - val_loss: 0.2561 - val_acc: 0.8911\n",
      "Epoch 46/100\n",
      "89542/89542 [==============================] - 4s 50us/sample - loss: 0.3059 - acc: 0.8707 - val_loss: 0.2560 - val_acc: 0.8895\n",
      "Epoch 47/100\n",
      "89542/89542 [==============================] - 4s 50us/sample - loss: 0.3077 - acc: 0.8699 - val_loss: 0.2581 - val_acc: 0.8902\n",
      "Epoch 48/100\n",
      "89542/89542 [==============================] - 5s 51us/sample - loss: 0.3063 - acc: 0.8711 - val_loss: 0.2524 - val_acc: 0.8925\n",
      "Epoch 49/100\n",
      "89542/89542 [==============================] - 5s 52us/sample - loss: 0.3040 - acc: 0.8722 - val_loss: 0.2556 - val_acc: 0.8914\n",
      "Epoch 50/100\n",
      "89542/89542 [==============================] - 5s 55us/sample - loss: 0.3057 - acc: 0.8721 - val_loss: 0.2533 - val_acc: 0.8946\n",
      "Epoch 51/100\n",
      "89542/89542 [==============================] - 5s 56us/sample - loss: 0.3033 - acc: 0.8741 - val_loss: 0.2518 - val_acc: 0.8959\n",
      "Epoch 52/100\n",
      "89542/89542 [==============================] - 5s 52us/sample - loss: 0.3045 - acc: 0.8721 - val_loss: 0.2499 - val_acc: 0.8963\n",
      "Epoch 53/100\n",
      "89542/89542 [==============================] - 5s 52us/sample - loss: 0.3024 - acc: 0.8736 - val_loss: 0.2514 - val_acc: 0.8910\n",
      "Epoch 54/100\n"
     ]
    },
    {
     "name": "stdout",
     "output_type": "stream",
     "text": [
      "89542/89542 [==============================] - 4s 50us/sample - loss: 0.3051 - acc: 0.8718 - val_loss: 0.2495 - val_acc: 0.8948\n",
      "Epoch 55/100\n",
      "89542/89542 [==============================] - 4s 50us/sample - loss: 0.3021 - acc: 0.8734 - val_loss: 0.2522 - val_acc: 0.8943\n",
      "Epoch 56/100\n",
      "89542/89542 [==============================] - 4s 50us/sample - loss: 0.3009 - acc: 0.8727 - val_loss: 0.2482 - val_acc: 0.8955\n",
      "Epoch 57/100\n",
      "89542/89542 [==============================] - 4s 50us/sample - loss: 0.2981 - acc: 0.8736 - val_loss: 0.2466 - val_acc: 0.8930\n",
      "Epoch 58/100\n",
      "89542/89542 [==============================] - 4s 50us/sample - loss: 0.3007 - acc: 0.8734 - val_loss: 0.2526 - val_acc: 0.8949\n",
      "Epoch 59/100\n",
      "89542/89542 [==============================] - 4s 50us/sample - loss: 0.3012 - acc: 0.8736 - val_loss: 0.2489 - val_acc: 0.8980\n",
      "Epoch 60/100\n",
      "89542/89542 [==============================] - 4s 50us/sample - loss: 0.2979 - acc: 0.8756 - val_loss: 0.2476 - val_acc: 0.8973\n",
      "Epoch 61/100\n",
      "89542/89542 [==============================] - 4s 50us/sample - loss: 0.2983 - acc: 0.8753 - val_loss: 0.2455 - val_acc: 0.8974\n",
      "Epoch 62/100\n",
      "89542/89542 [==============================] - 4s 50us/sample - loss: 0.2990 - acc: 0.8741 - val_loss: 0.2485 - val_acc: 0.8957\n",
      "Epoch 63/100\n",
      "89542/89542 [==============================] - 4s 50us/sample - loss: 0.2998 - acc: 0.8744 - val_loss: 0.2472 - val_acc: 0.8970\n",
      "Epoch 64/100\n",
      "89542/89542 [==============================] - 5s 51us/sample - loss: 0.3017 - acc: 0.8738 - val_loss: 0.2480 - val_acc: 0.8978\n",
      "Epoch 65/100\n",
      "89542/89542 [==============================] - 4s 50us/sample - loss: 0.2972 - acc: 0.8761 - val_loss: 0.2467 - val_acc: 0.8976\n",
      "Epoch 66/100\n",
      "89542/89542 [==============================] - 4s 50us/sample - loss: 0.2970 - acc: 0.8751 - val_loss: 0.2486 - val_acc: 0.8980\n",
      "Epoch 00066: early stopping\n"
     ]
    },
    {
     "data": {
      "text/plain": [
       "<tensorflow.python.keras.callbacks.History at 0x62de13ed0>"
      ]
     },
     "execution_count": 5,
     "metadata": {},
     "output_type": "execute_result"
    }
   ],
   "source": [
    "from tensorflow.keras.callbacks import EarlyStopping\n",
    "early_stop = EarlyStopping(monitor='val_loss', mode='min', verbose=1, patience=5)\n",
    "\n",
    "model.fit(x=X_train, \n",
    "          y=y_train, \n",
    "          epochs=100,\n",
    "          validation_data=(X_test, y_test), verbose=1,callbacks=[early_stop]\n",
    "          )"
   ]
  },
  {
   "cell_type": "code",
   "execution_count": 6,
   "metadata": {},
   "outputs": [
    {
     "data": {
      "text/plain": [
       "<matplotlib.axes._subplots.AxesSubplot at 0x62e726d50>"
      ]
     },
     "execution_count": 6,
     "metadata": {},
     "output_type": "execute_result"
    },
    {
     "data": {
      "image/png": "[encoded data removed]",
      "text/plain": [
       "<Figure size 432x288 with 1 Axes>"
      ]
     },
     "metadata": {
      "needs_background": "light"
     },
     "output_type": "display_data"
    }
   ],
   "source": [
    "model_loss = pd.DataFrame(model.history.history)\n",
    "model_loss.plot()"
   ]
  },
  {
   "cell_type": "code",
   "execution_count": 7,
   "metadata": {},
   "outputs": [
    {
     "name": "stdout",
     "output_type": "stream",
     "text": [
      "              precision    recall  f1-score   support\n",
      "\n",
      "         0.0       0.88      0.96      0.92     18732\n",
      "         1.0       0.93      0.79      0.85     11116\n",
      "\n",
      "    accuracy                           0.90     29848\n",
      "   macro avg       0.91      0.88      0.89     29848\n",
      "weighted avg       0.90      0.90      0.90     29848\n",
      "\n",
      "[[18072   660]\n",
      " [ 2384  8732]]\n"
     ]
    }
   ],
   "source": [
    "predictions = model.predict_classes(X_test)\n",
    "from sklearn.metrics import classification_report,confusion_matrix\n",
    "print(classification_report(y_test,predictions))\n",
    "print(confusion_matrix(y_test,predictions))"
   ]
  },
  {
   "cell_type": "code",
   "execution_count": 8,
   "metadata": {},
   "outputs": [
    {
     "name": "stderr",
     "output_type": "stream",
     "text": [
      "/Applications/anaconda3/lib/python3.7/site-packages/sklearn/linear_model/logistic.py:947: ConvergenceWarning: lbfgs failed to converge. Increase the number of iterations.\n",
      "  \"of iterations.\", ConvergenceWarning)\n"
     ]
    },
    {
     "data": {
      "text/plain": [
       "LogisticRegression(C=1.0, class_weight=None, dual=False, fit_intercept=True,\n",
       "                   intercept_scaling=1, l1_ratio=None, max_iter=100,\n",
       "                   multi_class='warn', n_jobs=None, penalty='l2',\n",
       "                   random_state=None, solver='lbfgs', tol=0.0001, verbose=0,\n",
       "                   warm_start=False)"
      ]
     },
     "execution_count": 8,
     "metadata": {},
     "output_type": "execute_result"
    }
   ],
   "source": [
    "from sklearn.linear_model import LogisticRegression\n",
    "LR = LogisticRegression(solver = 'lbfgs')\n",
    "LR.fit(X_train,y_train)\n"
   ]
  },
  {
   "cell_type": "code",
   "execution_count": 9,
   "metadata": {},
   "outputs": [
    {
     "name": "stdout",
     "output_type": "stream",
     "text": [
      "              precision    recall  f1-score   support\n",
      "\n",
      "         0.0       0.83      0.91      0.87     18732\n",
      "         1.0       0.82      0.69      0.75     11116\n",
      "\n",
      "    accuracy                           0.83     29848\n",
      "   macro avg       0.83      0.80      0.81     29848\n",
      "weighted avg       0.83      0.83      0.83     29848\n",
      "\n",
      "[[17062  1670]\n",
      " [ 3422  7694]]\n"
     ]
    }
   ],
   "source": [
    "y_pred = LR.predict(X_test)\n",
    "print(classification_report(y_test,y_pred))\n",
    "print(confusion_matrix(y_test,y_pred))"
   ]
  },
  {
   "cell_type": "code",
   "execution_count": null,
   "metadata": {},
   "outputs": [],
   "source": []
  }
 ],
 "metadata": {
  "kernelspec": {
   "display_name": "Python 3",
   "language": "python",
   "name": "python3"
  },
  "language_info": {
   "codemirror_mode": {
    "name": "ipython",
    "version": 3
   },
   "file_extension": ".py",
   "mimetype": "text/x-python",
   "name": "python",
   "nbconvert_exporter": "python",
   "pygments_lexer": "ipython3",
   "version": "3.7.4"
  }
 },
 "nbformat": 4,
 "nbformat_minor": 2
}
